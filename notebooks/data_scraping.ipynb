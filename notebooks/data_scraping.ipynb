{
 "cells": [
  {
   "cell_type": "code",
   "execution_count": 46,
   "metadata": {},
   "outputs": [],
   "source": [
    "# Import necessary modules for scraping\n",
    "from bs4 import BeautifulSoup as bs\n",
    "import pandas as pd\n",
    "# Selenium imports\n",
    "from selenium import webdriver\n",
    "from selenium.webdriver.common.by import By\n",
    "from selenium.webdriver.common.keys import Keys\n",
    "from selenium.webdriver.support.ui import WebDriverWait\n",
    "from selenium.webdriver.support import expected_conditions as EC\n",
    "from selenium.webdriver.chrome.service import Service\n",
    "from webdriver_manager.chrome import ChromeDriverManager\n",
    "from selenium.common.exceptions import TimeoutException\n",
    "import time\n"
   ]
  },
  {
   "cell_type": "markdown",
   "metadata": {},
   "source": [
    "## NFL Data Scraping\n",
    "* Dynamic (Franchise Value 2023) https://www.statista.com/statistics/193534/franchise-value-of-national-football-league-teams-in-2010/\n",
    "    \n",
    "    1. click on \"adjust statistic presentation button (resembles normal \"settings\" button), button element:\n",
    "    ```\n",
    "    <button aria-label=\"Settings\" aria-haspopup=\"true\" data-gtm=\"statisticGraph__icon--settings\" type=\"button\" class=\"toolbar__item panelCard padding-all-10 flex-s--grow\" tabindex=\"0\"><svg aria-hidden=\"true\" height=\"12\" width=\"18\" class=\"toolbar__icon uiIcon--default\"><use href=\"#iconAdjustmentFill\"></use></svg></button>\n",
    "    ```\n",
    "    2. select grid option, element:\n",
    "    ``` \n",
    "    <button aria-label=\"Display table\" class=\"button button--active\"><svg aria-hidden=\"true\" height=\"16\" width=\"16\"><use href=\"#iconChartTableFill\"></use></svg></button>\n",
    "    ```\n",
    "    3. Select 50 under Records drop down\n",
    "    ``` \n",
    "    <select id=\"dataTablePageSize1717123935205\"><option> <option>50</option> \n",
    "    ```\n",
    "    4. data is now present in \"Inspect\"\n",
    "    5. data is in this format in HTML \n",
    "    ```\n",
    "    <span>New York Giants</span> , <span>6.8</span>```\n",
    "     ```\n",
    "     <tr> </tr>\n",
    "     ``` \n",
    "    in table row format\n",
    "    "
   ]
  },
  {
   "cell_type": "code",
   "execution_count": 47,
   "metadata": {},
   "outputs": [],
   "source": [
    "# 1. Dynamic (Franchise Value 2023)\n",
    "# Set up WebDriver\n",
    "driver = webdriver.Chrome(service=Service(ChromeDriverManager().install()))\n",
    "\n",
    "# Open the website\n",
    "url = 'https://www.statista.com/statistics/193534/franchise-value-of-national-football-league-teams-in-2010/'\n",
    "driver.get(url)"
   ]
  },
  {
   "cell_type": "code",
   "execution_count": 48,
   "metadata": {},
   "outputs": [],
   "source": [
    "# Click \"Only necessary\" for cookie options\n",
    "# <button id=\"onetrust-reject-all-handler\">Only necessary</button>\n",
    "button = WebDriverWait(driver, 10).until(\n",
    "    EC.element_to_be_clickable((By.XPATH, '//*[text()=\"Only necessary\"]'))\n",
    ")\n",
    "button.click()\n"
   ]
  },
  {
   "cell_type": "markdown",
   "metadata": {},
   "source": [
    "<button aria-label=\"Settings\" aria-haspopup=\"true\" data-gtm=\"statisticGraph__icon--settings\" type=\"button\" class=\"toolbar__item panelCard padding-all-10 flex-s--grow toolbar__item--active\" tabindex=\"0\"><svg aria-hidden=\"true\" height=\"12\" width=\"18\" class=\"toolbar__icon uiIcon--default\"><use href=\"#iconAdjustmentFill\"></use></svg></button>\n",
    "\n"
   ]
  },
  {
   "cell_type": "code",
   "execution_count": 49,
   "metadata": {},
   "outputs": [],
   "source": [
    "# Select \"adjust statistic presentation\" button (resembles normal \"settings\" button)\n",
    "# <svg aria-hidden=\"true\" height=\"12\" width=\"18\" class=\"toolbar__icon uiIcon--default\"><use href=\"#iconAdjustmentFill\"></use></svg>\n",
    "adjust_button = WebDriverWait(driver, 10).until(\n",
    "    EC.element_to_be_clickable((By.XPATH, '//button[@aria-label=\"Settings\"]'))\n",
    ")\n",
    "adjust_button.click()"
   ]
  },
  {
   "cell_type": "code",
   "execution_count": 50,
   "metadata": {},
   "outputs": [],
   "source": [
    "# Select data table option in Chart Type window\n",
    "table_button = driver.find_element(By.CLASS_NAME, 'button--active')\n",
    "\n",
    "table_button.click()"
   ]
  },
  {
   "cell_type": "code",
   "execution_count": 51,
   "metadata": {},
   "outputs": [],
   "source": [
    "# Element containing Login hyperlink\n",
    "# <span data-gtm=\"conversionTeaser__anonymUserLoginLink--statisticFree\" data-navigation-login-click=\"\" class=\"text-underline cursor-pointer text-color--primary-contrast text-semibold\">Login</span>"
   ]
  },
  {
   "cell_type": "code",
   "execution_count": 52,
   "metadata": {},
   "outputs": [],
   "source": [
    "# Select Login link button \n",
    "login = WebDriverWait(driver, 20).until(\n",
    "    EC.element_to_be_clickable((By.XPATH, '//span[@data-gtm=\"conversionTeaser__anonymUserLoginLink--statisticFree\"]'))\n",
    ")\n",
    "login.click()"
   ]
  },
  {
   "cell_type": "code",
   "execution_count": 53,
   "metadata": {},
   "outputs": [],
   "source": [
    "# Enter my login credentials from the config.py file (.gitignore'd)\n",
    "import config\n",
    "\n",
    "username_field = WebDriverWait(driver, 10).until(\n",
    "        EC.presence_of_element_located((By.ID, 'loginStat_username'))  # code working\n",
    "    )\n",
    "password_field = WebDriverWait(driver, 10).until(\n",
    "         EC.presence_of_element_located((By.ID, 'loginStat_password')) # code working\n",
    "    )\n",
    "login_button = WebDriverWait(driver, 10).until(\n",
    "        EC.element_to_be_clickable((By.ID, 'loginStat_submitLogin'))     # code working\n",
    "    )\n",
    "\n",
    "# Enter credentials \n",
    "username_field.send_keys(config.USERNAME)\n",
    "password_field.send_keys(config.PASSWORD)\n",
    "\n",
    "# username_field.click()\n",
    "# password_field.click()\n",
    "login_button.click()"
   ]
  },
  {
   "cell_type": "markdown",
   "metadata": {},
   "source": [
    "<button id=\"loginStat_submitLogin\" type=\"submit\" name=\"loginStat[submitLogin]\" data-gtm=\"ll_login\" class=\"button button--primary button--medium\"><!----> \n",
    "                    Log in\n",
    "                </button>"
   ]
  },
  {
   "cell_type": "markdown",
   "metadata": {},
   "source": [
    "## User Interaction Status\n",
    "- Realize after first chart selection click that an account is needed to view certain chart types\n",
    "- login credential addition were successful, although button clicks are now needed again to access chart table data\n",
    "- Going forward for other statista.com sites the most efficient interaction process will be:\n",
    "    1. go to main statista home page\n",
    "    2. login\n",
    "    3. then go directly to data page through driver --> url code\n",
    "- For now will just re-access data through previous button clicks ran again"
   ]
  },
  {
   "cell_type": "code",
   "execution_count": 56,
   "metadata": {},
   "outputs": [],
   "source": [
    "# Select \"adjust statistic presentation\" button AGAIN (resembles normal \"settings\" button)\n",
    "adjust_button = WebDriverWait(driver, 10).until(\n",
    "    EC.element_to_be_clickable((By.XPATH, '//button[@aria-label=\"Settings\"]'))\n",
    ")\n",
    "adjust_button.click()"
   ]
  },
  {
   "cell_type": "code",
   "execution_count": 63,
   "metadata": {},
   "outputs": [],
   "source": [
    "# Select data table option in Chart Type window\n",
    "table_button = driver.find_element(By.XPATH, '//button[@aria-label=\"Display table\"]')\n",
    "table_button.click()"
   ]
  },
  {
   "cell_type": "markdown",
   "metadata": {},
   "source": [
    "<select id=\"dataTablePageSize1717556325057\"><option>\n",
    "                    13\n",
    "                </option><option>\n",
    "                    25\n",
    "                </option><option>\n",
    "                    50\n",
    "                </option></select>"
   ]
  },
  {
   "cell_type": "code",
   "execution_count": 69,
   "metadata": {},
   "outputs": [
    {
     "ename": "TimeoutException",
     "evalue": "Message: \nStacktrace:\n\tGetHandleVerifier [0x005BB8E3+45827]\n\t(No symbol) [0x0054DCC4]\n\t(No symbol) [0x0044150F]\n\t(No symbol) [0x004820BC]\n\t(No symbol) [0x0048216B]\n\t(No symbol) [0x004BE0F2]\n\t(No symbol) [0x004A2E44]\n\t(No symbol) [0x004BC034]\n\t(No symbol) [0x004A2B96]\n\t(No symbol) [0x00476998]\n\t(No symbol) [0x0047751D]\n\tGetHandleVerifier [0x00874513+2899763]\n\tGetHandleVerifier [0x008C793D+3240797]\n\tGetHandleVerifier [0x006413B4+593364]\n\tGetHandleVerifier [0x006482DC+621820]\n\t(No symbol) [0x005570A4]\n\t(No symbol) [0x005537A8]\n\t(No symbol) [0x00553947]\n\t(No symbol) [0x005459FE]\n\tBaseThreadInitThunk [0x7777FCC9+25]\n\tRtlGetAppContainerNamedObjectPath [0x778C7CBE+286]\n\tRtlGetAppContainerNamedObjectPath [0x778C7C8E+238]\n",
     "output_type": "error",
     "traceback": [
      "\u001b[1;31m---------------------------------------------------------------------------\u001b[0m",
      "\u001b[1;31mTimeoutException\u001b[0m                          Traceback (most recent call last)",
      "Cell \u001b[1;32mIn[69], line 2\u001b[0m\n\u001b[0;32m      1\u001b[0m \u001b[38;5;66;03m# Select 50 record count optionin 'Records' dropdown\u001b[39;00m\n\u001b[1;32m----> 2\u001b[0m records_select \u001b[38;5;241m=\u001b[39m \u001b[43mWebDriverWait\u001b[49m\u001b[43m(\u001b[49m\u001b[43mdriver\u001b[49m\u001b[43m,\u001b[49m\u001b[43m \u001b[49m\u001b[38;5;241;43m20\u001b[39;49m\u001b[43m)\u001b[49m\u001b[38;5;241;43m.\u001b[39;49m\u001b[43muntil\u001b[49m\u001b[43m(\u001b[49m\n\u001b[0;32m      3\u001b[0m \u001b[43m    \u001b[49m\u001b[43mEC\u001b[49m\u001b[38;5;241;43m.\u001b[39;49m\u001b[43mpresence_of_element_located\u001b[49m\u001b[43m(\u001b[49m\u001b[43m(\u001b[49m\u001b[43mBy\u001b[49m\u001b[38;5;241;43m.\u001b[39;49m\u001b[43mID\u001b[49m\u001b[43m,\u001b[49m\u001b[43m \u001b[49m\u001b[38;5;124;43m\"\u001b[39;49m\u001b[38;5;124;43mdataTablePageSize1717556325057\u001b[39;49m\u001b[38;5;124;43m\"\u001b[39;49m\u001b[43m)\u001b[49m\u001b[43m)\u001b[49m\n\u001b[0;32m      4\u001b[0m \u001b[43m)\u001b[49m\n\u001b[0;32m      5\u001b[0m \u001b[38;5;66;03m# Create select object\u001b[39;00m\n\u001b[0;32m      6\u001b[0m selection \u001b[38;5;241m=\u001b[39m Select(records_select)\n",
      "File \u001b[1;32mc:\\Users\\justi\\anaconda3\\envs\\dev\\lib\\site-packages\\selenium\\webdriver\\support\\wait.py:89\u001b[0m, in \u001b[0;36mWebDriverWait.until\u001b[1;34m(self, method, message)\u001b[0m\n\u001b[0;32m     87\u001b[0m     \u001b[38;5;28;01mif\u001b[39;00m time\u001b[38;5;241m.\u001b[39mmonotonic() \u001b[38;5;241m>\u001b[39m end_time:\n\u001b[0;32m     88\u001b[0m         \u001b[38;5;28;01mbreak\u001b[39;00m\n\u001b[1;32m---> 89\u001b[0m \u001b[38;5;28;01mraise\u001b[39;00m TimeoutException(message, screen, stacktrace)\n",
      "\u001b[1;31mTimeoutException\u001b[0m: Message: \nStacktrace:\n\tGetHandleVerifier [0x005BB8E3+45827]\n\t(No symbol) [0x0054DCC4]\n\t(No symbol) [0x0044150F]\n\t(No symbol) [0x004820BC]\n\t(No symbol) [0x0048216B]\n\t(No symbol) [0x004BE0F2]\n\t(No symbol) [0x004A2E44]\n\t(No symbol) [0x004BC034]\n\t(No symbol) [0x004A2B96]\n\t(No symbol) [0x00476998]\n\t(No symbol) [0x0047751D]\n\tGetHandleVerifier [0x00874513+2899763]\n\tGetHandleVerifier [0x008C793D+3240797]\n\tGetHandleVerifier [0x006413B4+593364]\n\tGetHandleVerifier [0x006482DC+621820]\n\t(No symbol) [0x005570A4]\n\t(No symbol) [0x005537A8]\n\t(No symbol) [0x00553947]\n\t(No symbol) [0x005459FE]\n\tBaseThreadInitThunk [0x7777FCC9+25]\n\tRtlGetAppContainerNamedObjectPath [0x778C7CBE+286]\n\tRtlGetAppContainerNamedObjectPath [0x778C7C8E+238]\n"
     ]
    }
   ],
   "source": [
    "# Select 50 record count optionin 'Records' dropdown\n",
    "records_select = WebDriverWait(driver, 20).until(\n",
    "    EC.presence_of_element_located((By.ID, \"dataTablePageSize1717556325057\"))\n",
    ")\n",
    "# Create select object\n",
    "selection = Select(records_select)\n",
    "\n",
    "# Select 50 records option by text\n",
    "selection.select_by_visible_text('50')\n",
    "# records_select.click()"
   ]
  },
  {
   "cell_type": "code",
   "execution_count": null,
   "metadata": {},
   "outputs": [],
   "source": []
  },
  {
   "cell_type": "code",
   "execution_count": null,
   "metadata": {},
   "outputs": [],
   "source": [
    "# Close Chrome driver\n",
    "# driver.quit()"
   ]
  },
  {
   "cell_type": "code",
   "execution_count": null,
   "metadata": {},
   "outputs": [],
   "source": []
  }
 ],
 "metadata": {
  "kernelspec": {
   "display_name": "dev",
   "language": "python",
   "name": "python3"
  },
  "language_info": {
   "codemirror_mode": {
    "name": "ipython",
    "version": 3
   },
   "file_extension": ".py",
   "mimetype": "text/x-python",
   "name": "python",
   "nbconvert_exporter": "python",
   "pygments_lexer": "ipython3",
   "version": "3.10.11"
  }
 },
 "nbformat": 4,
 "nbformat_minor": 2
}
