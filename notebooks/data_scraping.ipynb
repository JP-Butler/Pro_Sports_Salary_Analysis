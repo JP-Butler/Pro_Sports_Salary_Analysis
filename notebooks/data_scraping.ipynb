{
 "cells": [
  {
   "cell_type": "code",
   "execution_count": 1,
   "metadata": {},
   "outputs": [],
   "source": [
    "# Import necessary modules for scraping\n",
    "from bs4 import BeautifulSoup as bs\n",
    "import pandas as pd\n",
    "# Selenium imports\n",
    "from selenium import webdriver\n",
    "from selenium.webdriver.common.by import By\n",
    "from selenium.webdriver.common.keys import Keys\n",
    "from selenium.webdriver.support.ui import WebDriverWait\n",
    "from selenium.webdriver.support import expected_conditions as EC\n",
    "from selenium.webdriver.support.ui import Select\n",
    "from selenium.webdriver.chrome.service import Service\n",
    "from webdriver_manager.chrome import ChromeDriverManager\n",
    "from selenium.common.exceptions import TimeoutException\n",
    "import time\n"
   ]
  },
  {
   "cell_type": "markdown",
   "metadata": {},
   "source": [
    "# Scraping Notes\n",
    "* HTML so far (through 3 pages) for statista.com seems to be identical in terms of tags and elements, allowing me to reuse code to access and interact with the page"
   ]
  },
  {
   "cell_type": "markdown",
   "metadata": {},
   "source": [
    "# NFL Data Scraping\n",
    "* Dynamic (Franchise Value 2023) https://www.statista.com/statistics/193534/franchise-value-of-national-football-league-teams-in-2010/\n",
    "    \n",
    "    1. click on \"adjust statistic presentation button (resembles normal \"settings\" button), button element:\n",
    "    ```\n",
    "    <button aria-label=\"Settings\" aria-haspopup=\"true\" data-gtm=\"statisticGraph__icon--settings\" type=\"button\" class=\"toolbar__item panelCard padding-all-10 flex-s--grow\" tabindex=\"0\"><svg aria-hidden=\"true\" height=\"12\" width=\"18\" class=\"toolbar__icon uiIcon--default\"><use href=\"#iconAdjustmentFill\"></use></svg></button>\n",
    "    ```\n",
    "    2. select grid option, element:\n",
    "    ``` \n",
    "    <button aria-label=\"Display table\" class=\"button button--active\"><svg aria-hidden=\"true\" height=\"16\" width=\"16\"><use href=\"#iconChartTableFill\"></use></svg></button>\n",
    "    ```\n",
    "    3. Select 50 under Records drop down\n",
    "    ``` \n",
    "    <select id=\"dataTablePageSize1717123935205\"><option> <option>50</option> \n",
    "    ```\n",
    "    4. data is now present in \"Inspect\"\n",
    "    5. data is in this format in HTML \n",
    "    ```\n",
    "    <span>New York Giants</span> , <span>6.8</span>```\n",
    "     ```\n",
    "     <tr> </tr>\n",
    "     ``` \n",
    "    in table row format\n",
    "    "
   ]
  },
  {
   "cell_type": "code",
   "execution_count": 2,
   "metadata": {},
   "outputs": [],
   "source": [
    "# Set up WebDriver\n",
    "driver = webdriver.Chrome(service=Service(ChromeDriverManager().install()))"
   ]
  },
  {
   "cell_type": "code",
   "execution_count": 2,
   "metadata": {},
   "outputs": [],
   "source": [
    "# 1. Dynamic (Franchise Value 2023)\n",
    "\n",
    "# Open the website\n",
    "url = 'https://www.statista.com/statistics/193534/franchise-value-of-national-football-league-teams-in-2010/'\n",
    "driver.get(url)"
   ]
  },
  {
   "cell_type": "code",
   "execution_count": 3,
   "metadata": {},
   "outputs": [],
   "source": [
    "# Click \"Only necessary\" for cookie options\n",
    "# <button id=\"onetrust-reject-all-handler\">Only necessary</button>\n",
    "button = WebDriverWait(driver, 10).until(\n",
    "    EC.element_to_be_clickable((By.XPATH, '//*[text()=\"Only necessary\"]'))\n",
    ")\n",
    "button.click()\n"
   ]
  },
  {
   "cell_type": "markdown",
   "metadata": {},
   "source": [
    "<button aria-label=\"Settings\" aria-haspopup=\"true\" data-gtm=\"statisticGraph__icon--settings\" type=\"button\" class=\"toolbar__item panelCard padding-all-10 flex-s--grow toolbar__item--active\" tabindex=\"0\"><svg aria-hidden=\"true\" height=\"12\" width=\"18\" class=\"toolbar__icon uiIcon--default\"><use href=\"#iconAdjustmentFill\"></use></svg></button>\n",
    "\n"
   ]
  },
  {
   "cell_type": "code",
   "execution_count": 4,
   "metadata": {},
   "outputs": [],
   "source": [
    "# Select \"adjust statistic presentation\" button (resembles normal \"settings\" button)\n",
    "# <svg aria-hidden=\"true\" height=\"12\" width=\"18\" class=\"toolbar__icon uiIcon--default\"><use href=\"#iconAdjustmentFill\"></use></svg>\n",
    "adjust_button = WebDriverWait(driver, 10).until(\n",
    "    EC.element_to_be_clickable((By.XPATH, '//button[@aria-label=\"Settings\"]'))\n",
    ")\n",
    "adjust_button.click()"
   ]
  },
  {
   "cell_type": "code",
   "execution_count": 5,
   "metadata": {},
   "outputs": [],
   "source": [
    "# Select data table option in Chart Type window\n",
    "table_button = driver.find_element(By.CLASS_NAME, 'button--active')\n",
    "\n",
    "table_button.click()"
   ]
  },
  {
   "cell_type": "code",
   "execution_count": 6,
   "metadata": {},
   "outputs": [],
   "source": [
    "# Element containing Login hyperlink\n",
    "# <span data-gtm=\"conversionTeaser__anonymUserLoginLink--statisticFree\" data-navigation-login-click=\"\" class=\"text-underline cursor-pointer text-color--primary-contrast text-semibold\">Login</span>"
   ]
  },
  {
   "cell_type": "code",
   "execution_count": 7,
   "metadata": {},
   "outputs": [],
   "source": [
    "# Select Login link button \n",
    "login = WebDriverWait(driver, 20).until(\n",
    "    EC.element_to_be_clickable((By.XPATH, '//span[@data-gtm=\"conversionTeaser__anonymUserLoginLink--statisticFree\"]'))\n",
    ")\n",
    "login.click()"
   ]
  },
  {
   "cell_type": "code",
   "execution_count": 8,
   "metadata": {},
   "outputs": [],
   "source": [
    "# Enter my login credentials from the config.py file (.gitignore'd)\n",
    "import config\n",
    "\n",
    "username_field = WebDriverWait(driver, 10).until(\n",
    "        EC.presence_of_element_located((By.ID, 'loginStat_username'))  # code working\n",
    "    )\n",
    "password_field = WebDriverWait(driver, 10).until(\n",
    "         EC.presence_of_element_located((By.ID, 'loginStat_password')) # code working\n",
    "    )\n",
    "login_button = WebDriverWait(driver, 10).until(\n",
    "        EC.element_to_be_clickable((By.ID, 'loginStat_submitLogin'))     # code working\n",
    "    )\n",
    "\n",
    "# Enter credentials \n",
    "username_field.send_keys(config.USERNAME)\n",
    "password_field.send_keys(config.PASSWORD)\n",
    "\n",
    "# username_field.click()\n",
    "# password_field.click()\n",
    "login_button.click()"
   ]
  },
  {
   "cell_type": "markdown",
   "metadata": {},
   "source": [
    "<button id=\"loginStat_submitLogin\" type=\"submit\" name=\"loginStat[submitLogin]\" data-gtm=\"ll_login\" class=\"button button--primary button--medium\"><!----> \n",
    "                    Log in\n",
    "                </button>"
   ]
  },
  {
   "cell_type": "markdown",
   "metadata": {},
   "source": [
    "## User Interaction Status\n",
    "- Realize after first chart selection click that an account is needed to view certain chart types\n",
    "- login credential addition were successful, although button clicks are now needed again to access chart table data\n",
    "- Going forward for other statista.com sites the most efficient interaction process will be:\n",
    "    1. go to main statista home page\n",
    "    2. login\n",
    "    3. then go directly to data page through driver --> url code\n",
    "- For now will just re-access data through previous button clicks ran again"
   ]
  },
  {
   "cell_type": "code",
   "execution_count": 10,
   "metadata": {},
   "outputs": [],
   "source": [
    "# Select \"adjust statistic presentation\" button AGAIN (resembles normal \"settings\" button)\n",
    "adjust_button = WebDriverWait(driver, 10).until(\n",
    "    EC.element_to_be_clickable((By.XPATH, '//button[@aria-label=\"Settings\"]'))\n",
    ")\n",
    "adjust_button.click()"
   ]
  },
  {
   "cell_type": "code",
   "execution_count": 11,
   "metadata": {},
   "outputs": [],
   "source": [
    "# Select data table option in Chart Type window\n",
    "table_button = driver.find_element(By.XPATH, '//button[@aria-label=\"Display table\"]')\n",
    "table_button.click()"
   ]
  },
  {
   "cell_type": "markdown",
   "metadata": {},
   "source": [
    "<select id=\"dataTablePageSize1717556325057\"><option>\n",
    "                    13\n",
    "                </option><option>\n",
    "                    25\n",
    "                </option><option>\n",
    "                    50\n",
    "                </option></select>"
   ]
  },
  {
   "cell_type": "code",
   "execution_count": 16,
   "metadata": {},
   "outputs": [],
   "source": [
    "# Select 50 record count optionin 'Records' dropdown\n",
    "records_select = WebDriverWait(driver, 20).until(\n",
    "    EC.presence_of_element_located((By.XPATH, \"//label[contains(text(), 'Records:')]/select\"))\n",
    ")\n",
    "# Create select object\n",
    "selection = Select(records_select)\n",
    "\n",
    "# Select 50 records option by text\n",
    "selection.select_by_visible_text('50')\n"
   ]
  },
  {
   "cell_type": "markdown",
   "metadata": {},
   "source": [
    "<table id=\"data-table-1717637951971\" class=\"dataTable\"><thead><tr><th aria-controls=\"data-table-1717637951971\" scope=\"col\" tabindex=\"0\" class=\"undefined  sorting sorting_asc\"><span>Characteristic</span></th><th aria-controls=\"data-table-1717637951971\" scope=\"col\" tabindex=\"0\" class=\"undefined  sorting\"><span>Franchise value in billion U.S. dollars</span></th></tr></thead> <tbody aria-live=\"polite\" aria-relevant=\"all\"><tr><td class=\"\"><!----> <span>Seattle Seahawks</span></td><td class=\"nowrap\"><!----> <span>5</span></td></tr><tr><td class=\"\"><!----> <span>Atlanta Falcons</span></td><td class=\"nowrap\"><!----> <span>4.7</span></td></tr><tr><td class=\"\"><!----> <span>Minnesota Vikings</span></td><td class=\"nowrap\"><!----> <span>4.65</span></td></tr><tr><td class=\"\"><!----> <span>Baltimore Ravens</span></td><td class=\"nowrap\"><!----> <span>4.63</span></td></tr><tr><td class=\"\"><!----> <span>Pittsburgh Steelers</span></td><td class=\"nowrap\"><!----> <span>4.63</span></td></tr><tr><td class=\"\"><!----> <span>Cleveland Browns</span></td><td class=\"nowrap\"><!----> <span>4.62</span></td></tr><tr><td class=\"\"><!----> <span>Green Bay Packers</span></td><td class=\"nowrap\"><!----> <span>4.6</span></td></tr><tr><td class=\"\"><!----> <span>Tennessee Titans</span></td><td class=\"nowrap\"><!----> <span>4.4</span></td></tr><tr><td class=\"\"><!----> <span>Indianapolis Colts</span></td><td class=\"nowrap\"><!----> <span>4.35</span></td></tr><tr><td class=\"\"><!----> <span>Kansas City Chiefs</span></td><td class=\"nowrap\"><!----> <span>4.3</span></td></tr><tr><td class=\"\"><!----> <span>Tampa Bay Buccaneers</span></td><td class=\"nowrap\"><!----> <span>4.2</span></td></tr><tr><td class=\"\"><!----> <span>Los Angeles Chargers</span></td><td class=\"nowrap\"><!----> <span>4.15</span></td></tr><tr><td class=\"\"><!----> <span>Carolina Panthers</span></td><td class=\"nowrap\"><!----> <span>4.1</span></td></tr></tbody> <!----></table>"
   ]
  },
  {
   "cell_type": "code",
   "execution_count": 19,
   "metadata": {},
   "outputs": [
    {
     "name": "stdout",
     "output_type": "stream",
     "text": [
      "[]\n",
      "['Dallas Cowboys', '9']\n",
      "['New England Patriots', '7']\n",
      "['Los Angeles Rams', '6.9']\n",
      "['New York Giants', '6.8']\n",
      "['Chicago Bears', '6.3']\n",
      "['Las Vegas Raiders', '6.2']\n",
      "['New York Jets', '6.1']\n",
      "['Washington Commanders', '6.05']\n",
      "['San Francisco 49ers', '6']\n",
      "['Philadelphia Eagles', '5.8']\n",
      "['Miami Dolphins', '5.7']\n",
      "['Houston Texans', '5.5']\n",
      "['Denver Broncos', '5.1']\n",
      "['Seattle Seahawks', '5']\n",
      "['Atlanta Falcons', '4.7']\n",
      "['Minnesota Vikings', '4.65']\n",
      "['Baltimore Ravens', '4.63']\n",
      "['Pittsburgh Steelers', '4.63']\n",
      "['Cleveland Browns', '4.62']\n",
      "['Green Bay Packers', '4.6']\n",
      "['Tennessee Titans', '4.4']\n",
      "['Indianapolis Colts', '4.35']\n",
      "['Kansas City Chiefs', '4.3']\n",
      "['Tampa Bay Buccaneers', '4.2']\n",
      "['Los Angeles Chargers', '4.15']\n",
      "['Carolina Panthers', '4.1']\n",
      "['New Orleans Saints', '4.08']\n",
      "['Jacksonville Jaguars', '4']\n",
      "['Arizona Cardinals', '3.8']\n",
      "['Buffalo Bills', '3.7']\n",
      "['Detroit Lions', '3.6']\n",
      "['Cincinnati Bengals', '3.5']\n"
     ]
    }
   ],
   "source": [
    "# Locate table and store in variable\n",
    "table = WebDriverWait(driver, 10).until(\n",
    "        EC.presence_of_element_located((By.CLASS_NAME, \"dataTable\"))  \n",
    "    )\n",
    "\n",
    "# Extract data from table \n",
    "rows = table.find_elements(By.TAG_NAME, \"tr\")\n",
    "table_data = []\n",
    "\n",
    "# Iterate over table extracting table data from <td> tags\n",
    "for row in rows:\n",
    "    cells = row.find_elements(By.TAG_NAME, \"td\")\n",
    "    row_data = [cell.text for cell in cells]\n",
    "    table_data.append(row_data)\n",
    "\n",
    "# Print the scraped table data list\n",
    "for row in table_data:\n",
    "        print(row)\n",
    "\n",
    "# NOTE team valuations are in $USD billions"
   ]
  },
  {
   "cell_type": "code",
   "execution_count": null,
   "metadata": {},
   "outputs": [],
   "source": []
  },
  {
   "cell_type": "markdown",
   "metadata": {},
   "source": [
    "## NFL League & Team Sponsor Revenue 2010-2022\n",
    "* https://www.statista.com/statistics/456355/nfl-league-team-sponsorship-revenue-worldwide/\n",
    "* Will directly access without closing previous browser\n",
    "    * Login credentials will not be needed again this way"
   ]
  },
  {
   "cell_type": "code",
   "execution_count": 20,
   "metadata": {},
   "outputs": [],
   "source": [
    "# Open the website\n",
    "league_team_rev_url = 'https://www.statista.com/statistics/456355/nfl-league-team-sponsorship-revenue-worldwide/'\n",
    "driver.get(league_team_rev_url)"
   ]
  },
  {
   "cell_type": "code",
   "execution_count": 21,
   "metadata": {},
   "outputs": [],
   "source": [
    "# Same code as previous site, HTML elements seem to be similar page to page\n",
    "settings_button = WebDriverWait(driver, 10).until(\n",
    "    EC.element_to_be_clickable((By.XPATH, '//button[@aria-label=\"Settings\"]'))\n",
    ")\n",
    "settings_button.click()"
   ]
  },
  {
   "cell_type": "code",
   "execution_count": 22,
   "metadata": {},
   "outputs": [],
   "source": [
    "# Select data table option in Chart Type window\n",
    "table_chart = driver.find_element(By.XPATH, '//button[@aria-label=\"Display table\"]')\n",
    "table_chart.click()"
   ]
  },
  {
   "cell_type": "code",
   "execution_count": 24,
   "metadata": {},
   "outputs": [],
   "source": [
    "# Select 50 record count option in 'Records' dropdown\n",
    "records_select = WebDriverWait(driver, 20).until(\n",
    "    EC.presence_of_element_located((By.XPATH, \"//label[contains(text(), 'Records:')]/select\"))\n",
    ")\n",
    "# Create select object\n",
    "selection = Select(records_select)\n",
    "\n",
    "# Select 50 records option by text\n",
    "selection.select_by_visible_text('50')"
   ]
  },
  {
   "cell_type": "code",
   "execution_count": 25,
   "metadata": {},
   "outputs": [
    {
     "name": "stdout",
     "output_type": "stream",
     "text": [
      "[]\n",
      "['2022', '1,880']\n",
      "['2021', '1,800']\n",
      "['2020', '1,620']\n",
      "['2019', '1,470']\n",
      "['2018', '1,390']\n",
      "['2017', '1,320']\n",
      "['2016', '1,250']\n",
      "['2015', '1,200']\n",
      "['2014', '1,150']\n",
      "['2013', '1,070']\n",
      "['2012', '1,010']\n",
      "['2011', '946']\n",
      "['2010', '870']\n"
     ]
    }
   ],
   "source": [
    "# Locate table and store in variable\n",
    "revenue_table = WebDriverWait(driver, 10).until(\n",
    "        EC.presence_of_element_located((By.CLASS_NAME, \"dataTable\"))  \n",
    "    )\n",
    "\n",
    "# Extract data from table \n",
    "rev_rows = revenue_table.find_elements(By.TAG_NAME, \"tr\")\n",
    "rev_data = []\n",
    "\n",
    "# Iterate over table extracting table data from <td> tags\n",
    "for row in rev_rows:\n",
    "    cells = row.find_elements(By.TAG_NAME, \"td\")\n",
    "    row_data = [cell.text for cell in cells]\n",
    "    rev_data.append(row_data)\n",
    "\n",
    "# Print the scraped revenue data list\n",
    "for row in rev_data:\n",
    "        print(row)\n",
    "\n",
    "# NOTE revenue numbers are in $USD millions"
   ]
  },
  {
   "cell_type": "code",
   "execution_count": 26,
   "metadata": {},
   "outputs": [],
   "source": [
    "# Close Chrome driver\n",
    "driver.quit()"
   ]
  },
  {
   "cell_type": "markdown",
   "metadata": {},
   "source": [
    "# NBA Data Scraping "
   ]
  },
  {
   "cell_type": "markdown",
   "metadata": {},
   "source": [
    "### More Efficient Data Access Method \n",
    "1. First access Statista.com main page\n",
    "2. Enter login info\n",
    "3. Then directly access desired data page\n",
    "    * Eliminating need to re-code user interactions to access chart data"
   ]
  },
  {
   "cell_type": "markdown",
   "metadata": {},
   "source": [
    "## Team Franchise Value 2001-2023\n",
    "* https://www.statista.com/statistics/193442/average-franchise-value-in-the-nba-since-2000/"
   ]
  },
  {
   "cell_type": "code",
   "execution_count": 15,
   "metadata": {},
   "outputs": [],
   "source": [
    "# Access main page of stats site\n",
    "main_site = 'https://www.statista.com'\n",
    "driver.get(main_site)"
   ]
  },
  {
   "cell_type": "code",
   "execution_count": 16,
   "metadata": {},
   "outputs": [],
   "source": [
    "# Click \"Only necessary\" for cookie options\n",
    "\n",
    "cookies = WebDriverWait(driver, 10).until(\n",
    "    EC.element_to_be_clickable((By.XPATH, '//*[text()=\"Only necessary\"]'))\n",
    ")\n",
    "cookies.click()"
   ]
  },
  {
   "cell_type": "markdown",
   "metadata": {},
   "source": [
    "<form action=\"/login/\"><input type=\"submit\" value=\"Login\" itemprop=\"url\" data-navigation-login=\"\" data-gtm=\"navMain__navigationItem--login\" class=\"navMain__text navMain__text--button navMain__text--buttonGhost\"></form>"
   ]
  },
  {
   "cell_type": "code",
   "execution_count": 17,
   "metadata": {},
   "outputs": [],
   "source": [
    "# Click homepage login\n",
    "login_select = WebDriverWait(driver, 10).until(\n",
    "    EC.element_to_be_clickable((By.CLASS_NAME, \"navMain__text--buttonGhost\"))\n",
    ")\n",
    "login_select.click()"
   ]
  },
  {
   "cell_type": "code",
   "execution_count": 18,
   "metadata": {},
   "outputs": [],
   "source": [
    "# Import login credentials (gitignore'd) stored in config.py\n",
    "import config\n",
    "\n",
    "# Copied login code from NFL scraping\n",
    "\n",
    "username_field = WebDriverWait(driver, 10).until(\n",
    "        EC.presence_of_element_located((By.ID, 'loginStat_username'))  # code working\n",
    "    )\n",
    "password_field = WebDriverWait(driver, 10).until(\n",
    "         EC.presence_of_element_located((By.ID, 'loginStat_password')) # code working\n",
    "    )\n",
    "login_button = WebDriverWait(driver, 10).until(\n",
    "        EC.element_to_be_clickable((By.ID, 'loginStat_submitLogin'))     # code working\n",
    "    )\n",
    "\n",
    "# Enter credentials \n",
    "username_field.send_keys(config.USERNAME)\n",
    "password_field.send_keys(config.PASSWORD)\n",
    "\n",
    "# username_field.click()\n",
    "# password_field.click()\n",
    "login_button.click()\n"
   ]
  },
  {
   "cell_type": "code",
   "execution_count": 8,
   "metadata": {},
   "outputs": [],
   "source": [
    "# Go directly to NBA franchise value data url\n",
    "nba_franchise_value_site = 'https://www.statista.com/statistics/193442/average-franchise-value-in-the-nba-since-2000/'\n",
    "driver.get(nba_franchise_value_site)"
   ]
  },
  {
   "cell_type": "code",
   "execution_count": 9,
   "metadata": {},
   "outputs": [],
   "source": [
    "# Same code as previous site, HTML elements seem to be similar page to page\n",
    "settings_button = WebDriverWait(driver, 10).until(\n",
    "    EC.element_to_be_clickable((By.XPATH, '//button[@aria-label=\"Settings\"]'))\n",
    ")\n",
    "settings_button.click()"
   ]
  },
  {
   "cell_type": "code",
   "execution_count": 10,
   "metadata": {},
   "outputs": [],
   "source": [
    "# Select data table option in Chart Type window\n",
    "table_chart = driver.find_element(By.XPATH, '//button[@aria-label=\"Display table\"]')\n",
    "table_chart.click()"
   ]
  },
  {
   "cell_type": "code",
   "execution_count": 11,
   "metadata": {},
   "outputs": [],
   "source": [
    "# Select 50 record count option in 'Records' dropdown\n",
    "records_select = WebDriverWait(driver, 20).until(\n",
    "    EC.presence_of_element_located((By.XPATH, \"//label[contains(text(), 'Records:')]/select\"))\n",
    ")\n",
    "# Create select object\n",
    "selection = Select(records_select)\n",
    "\n",
    "# Select 50 records option by text\n",
    "selection.select_by_visible_text('50')"
   ]
  },
  {
   "cell_type": "code",
   "execution_count": 12,
   "metadata": {},
   "outputs": [
    {
     "name": "stdout",
     "output_type": "stream",
     "text": [
      "[]\n",
      "['2023', '3,850']\n",
      "['2022', '2,863.5']\n",
      "['2021', '2,480']\n",
      "['2020', '2,123']\n",
      "['2019', '1,868']\n",
      "['2018', '1,651.5']\n",
      "['2017', '1,355']\n",
      "['2016', '1,245']\n",
      "['2015', '1,106']\n",
      "['2014', '634']\n",
      "['2013', '509']\n",
      "['2012', '393']\n",
      "['2011', '369']\n",
      "['2010', '367']\n",
      "['2009', '379']\n",
      "['2008', '372']\n",
      "['2007', '353']\n",
      "['2006', '326']\n",
      "['2005', '302']\n",
      "['2004', '265']\n",
      "['2003', '248']\n",
      "['2002', '223']\n",
      "['2001', '207']\n"
     ]
    }
   ],
   "source": [
    "# Locate table and store in variable\n",
    "franchise_table = WebDriverWait(driver, 10).until(\n",
    "        EC.presence_of_element_located((By.CLASS_NAME, \"dataTable\"))  \n",
    "    )\n",
    "\n",
    "# Extract data from table \n",
    "franchise_rows = franchise_table.find_elements(By.TAG_NAME, \"tr\")\n",
    "franchise_data = []\n",
    "\n",
    "# Iterate over table extracting table data from <td> tags\n",
    "for row in franchise_rows:\n",
    "    cells = row.find_elements(By.TAG_NAME, \"td\")\n",
    "    row_data = [cell.text for cell in cells]\n",
    "    franchise_data.append(row_data)\n",
    "\n",
    "# Print the scraped franchise value data list\n",
    "for row in franchise_data:\n",
    "        print(row)\n",
    "\n",
    "# NOTE franchise value numbers are in $USD millions"
   ]
  },
  {
   "cell_type": "markdown",
   "metadata": {},
   "source": [
    "## NBA Sponsor Revenue 2010-2023\n",
    "* Website: https://www.statista.com/statistics/380270/nba-sponsorship-revenue/\n",
    "1. Make sure driver cell is ran to initialize chrome driver\n",
    "2. Run statista main site cell then login information\n",
    "3. Below site access is ready"
   ]
  },
  {
   "cell_type": "code",
   "execution_count": 7,
   "metadata": {},
   "outputs": [],
   "source": [
    "# Access statista set for NBA sponsorship revenue\n",
    "nba_rev_site = 'https://www.statista.com/statistics/380270/nba-sponsorship-revenue/'\n",
    "driver.get(nba_rev_site)"
   ]
  },
  {
   "cell_type": "code",
   "execution_count": 8,
   "metadata": {},
   "outputs": [],
   "source": [
    "# Same code as previous sites, HTML elements seem to be similar page to page for statista.com\n",
    "settings_button = WebDriverWait(driver, 10).until(\n",
    "    EC.element_to_be_clickable((By.XPATH, '//button[@aria-label=\"Settings\"]'))\n",
    ")\n",
    "settings_button.click()"
   ]
  },
  {
   "cell_type": "code",
   "execution_count": 9,
   "metadata": {},
   "outputs": [],
   "source": [
    "# Select data table option in Chart Type window\n",
    "table_chart = driver.find_element(By.XPATH, '//button[@aria-label=\"Display table\"]')\n",
    "table_chart.click()"
   ]
  },
  {
   "cell_type": "code",
   "execution_count": 10,
   "metadata": {},
   "outputs": [],
   "source": [
    "# Select 50 record count option in 'Records' dropdown\n",
    "records_select = WebDriverWait(driver, 20).until(\n",
    "    EC.presence_of_element_located((By.XPATH, \"//label[contains(text(), 'Records:')]/select\"))\n",
    ")\n",
    "# Create select object\n",
    "selection = Select(records_select)\n",
    "\n",
    "# Select 50 records option by text\n",
    "selection.select_by_visible_text('50')"
   ]
  },
  {
   "cell_type": "code",
   "execution_count": 11,
   "metadata": {},
   "outputs": [
    {
     "name": "stdout",
     "output_type": "stream",
     "text": [
      "[]\n",
      "['22/23', '1,660']\n",
      "['21/22', '1,600']\n",
      "['20/21', '1,460']\n",
      "['19/20', '1,390']\n",
      "['18/19', '1,298']\n",
      "['17/18', '1,120']\n",
      "['16/17', '861']\n",
      "['15/16', '799']\n",
      "['14/15', '739']\n",
      "['13/14', '679']\n",
      "['12/13', '642']\n",
      "['11/12', '610']\n",
      "['10/11', '572']\n",
      "['09/10', '536']\n"
     ]
    }
   ],
   "source": [
    "# Locate table and store in variable\n",
    "nba_rev_table = WebDriverWait(driver, 10).until(\n",
    "        EC.presence_of_element_located((By.CLASS_NAME, \"dataTable\"))  \n",
    "    )\n",
    "\n",
    "# Extract data from table \n",
    "nba_rev_rows = nba_rev_table.find_elements(By.TAG_NAME, \"tr\")\n",
    "nba_rev_data = []\n",
    "\n",
    "# Iterate over table extracting table data from <td> tags\n",
    "for row in nba_rev_rows:\n",
    "    cells = row.find_elements(By.TAG_NAME, \"td\")\n",
    "    row_data = [cell.text for cell in cells]\n",
    "    nba_rev_data.append(row_data)\n",
    "\n",
    "# Print the scraped nba_rev value data list\n",
    "for row in nba_rev_data:\n",
    "        print(row)\n",
    "\n",
    "# NOTE NBA Sponsorship Revenue numbers are in $USD millions\n",
    "# List elements in [0] season/year, [1] $ revenue amount"
   ]
  },
  {
   "cell_type": "code",
   "execution_count": 12,
   "metadata": {},
   "outputs": [],
   "source": [
    "# Close Chrome driver\n",
    "# driver.quit()"
   ]
  },
  {
   "cell_type": "markdown",
   "metadata": {},
   "source": [
    "# MLB Scraping \n",
    "1. Run driver intializing cell first if not already open\n",
    "2. cells to open statista.com first and then login information"
   ]
  },
  {
   "cell_type": "markdown",
   "metadata": {},
   "source": [
    "## MLB Franchise value as of 2024"
   ]
  },
  {
   "cell_type": "code",
   "execution_count": 19,
   "metadata": {},
   "outputs": [],
   "source": [
    "#\n",
    "mlb_franchise_site = 'https://www.statista.com/statistics/193637/franchise-value-of-major-league-baseball-teams-in-2010/'\n",
    "driver.get(mlb_franchise_site)"
   ]
  },
  {
   "cell_type": "code",
   "execution_count": 20,
   "metadata": {},
   "outputs": [],
   "source": [
    "# Same code as previous siteS, HTML elements seem to be similar page to page\n",
    "settings_button = WebDriverWait(driver, 10).until(\n",
    "    EC.element_to_be_clickable((By.XPATH, '//button[@aria-label=\"Settings\"]'))\n",
    ")\n",
    "settings_button.click()"
   ]
  },
  {
   "cell_type": "code",
   "execution_count": 21,
   "metadata": {},
   "outputs": [],
   "source": [
    "# Select data table option in Chart Type window\n",
    "table_chart = driver.find_element(By.XPATH, '//button[@aria-label=\"Display table\"]')\n",
    "table_chart.click()"
   ]
  },
  {
   "cell_type": "code",
   "execution_count": 22,
   "metadata": {},
   "outputs": [],
   "source": [
    "# Select 50 record count option in 'Records' dropdown\n",
    "records_select = WebDriverWait(driver, 20).until(\n",
    "    EC.presence_of_element_located((By.XPATH, \"//label[contains(text(), 'Records:')]/select\"))\n",
    ")\n",
    "# Create select object\n",
    "selection = Select(records_select)\n",
    "\n",
    "# Select 50 records option by text\n",
    "selection.select_by_visible_text('50')"
   ]
  },
  {
   "cell_type": "code",
   "execution_count": 23,
   "metadata": {},
   "outputs": [
    {
     "name": "stdout",
     "output_type": "stream",
     "text": [
      "[]\n",
      "['New York Yankees', '7,550']\n",
      "['Los Angeles Dodgers', '5,450']\n",
      "['Boston Red Sox', '4,500']\n",
      "['Chicago Cubs', '4,225']\n",
      "['San Francisco Giants', '3,800']\n",
      "['New York Mets', '3,000']\n",
      "['Philadelphia Phillies', '2,925']\n",
      "['Atlanta Braves', '2,800']\n",
      "['Los Angeles Angels', '2,700']\n",
      "['St. Louis Cardinals', '2,550']\n",
      "['Houston Astros', '2,425']\n",
      "['Texas Rangers', '2,400']\n",
      "['Seattle Mariners', '2,200']\n",
      "['Toronto Blue Jays', '2,100']\n",
      "['Chicago White Sox', '2,050']\n",
      "['Washington Nationals', '2,000']\n",
      "['San Diego Padres', '1,780']\n",
      "['Baltimore Orioles', '1,725']\n",
      "['Milwaukee Brewers', '1,605']\n",
      "['Colorado Rockies', '1,475']\n",
      "['Minnesota Twins', '1,460']\n",
      "['Detroit Tigers', '1,450']\n",
      "['Arizona Diamondbacks', '1,425']\n",
      "['Cleveland Guardians', '1,350']\n",
      "['Pittsburgh Pirates', '1,320']\n",
      "['Cincinnati Reds', '1,255']\n",
      "['Tampa Bay Rays', '1,250']\n",
      "['Kansas City Royals', '1,225']\n",
      "['Oakland Athletics', '1,200']\n",
      "['Miami Marlins', '1,000']\n"
     ]
    }
   ],
   "source": [
    "# Locate table and store in variable\n",
    "mlb_franchise_table = WebDriverWait(driver, 10).until(\n",
    "        EC.presence_of_element_located((By.CLASS_NAME, \"dataTable\"))  \n",
    "    )\n",
    "\n",
    "# Extract data from table \n",
    "mlb_franchise_rows = mlb_franchise_table.find_elements(By.TAG_NAME, \"tr\")\n",
    "mlb_franchise_data = []\n",
    "\n",
    "# Iterate over table extracting table data from <td> tags\n",
    "for row in mlb_franchise_rows:\n",
    "    cells = row.find_elements(By.TAG_NAME, \"td\")\n",
    "    row_data = [cell.text for cell in cells]\n",
    "    mlb_franchise_data.append(row_data)\n",
    "\n",
    "# Print the scraped mlb_franchise value data list\n",
    "for row in mlb_franchise_data:\n",
    "        print(row)"
   ]
  },
  {
   "cell_type": "code",
   "execution_count": 24,
   "metadata": {},
   "outputs": [],
   "source": [
    "# close the chrome driver\n",
    "# driver.quit()"
   ]
  },
  {
   "cell_type": "markdown",
   "metadata": {},
   "source": [
    "# NHL Scraping"
   ]
  },
  {
   "cell_type": "markdown",
   "metadata": {},
   "source": [
    "## Franchise Value as of 2023, by Team\n",
    "- https://www.statista.com/statistics/193732/franchise-value-of-national-hockey-league-teams-in-2010/"
   ]
  },
  {
   "cell_type": "code",
   "execution_count": 3,
   "metadata": {},
   "outputs": [],
   "source": [
    "# Access main page of stats site\n",
    "main_site = 'https://www.statista.com'\n",
    "driver.get(main_site)"
   ]
  },
  {
   "cell_type": "code",
   "execution_count": 4,
   "metadata": {},
   "outputs": [],
   "source": [
    "# Click \"Only necessary\" for cookie options\n",
    "\n",
    "cookies = WebDriverWait(driver, 10).until(\n",
    "    EC.element_to_be_clickable((By.XPATH, '//*[text()=\"Only necessary\"]'))\n",
    ")\n",
    "cookies.click()"
   ]
  },
  {
   "cell_type": "code",
   "execution_count": 5,
   "metadata": {},
   "outputs": [],
   "source": [
    "# Click homepage login\n",
    "login_select = WebDriverWait(driver, 10).until(\n",
    "    EC.element_to_be_clickable((By.CLASS_NAME, \"navMain__text--buttonGhost\"))\n",
    ")\n",
    "login_select.click()"
   ]
  },
  {
   "cell_type": "code",
   "execution_count": 6,
   "metadata": {},
   "outputs": [],
   "source": [
    "# Import login credentials (gitignore'd) stored in config.py\n",
    "import config\n",
    "\n",
    "# Copied login code from NFL scraping\n",
    "\n",
    "username_field = WebDriverWait(driver, 10).until(\n",
    "        EC.presence_of_element_located((By.ID, 'loginStat_username'))  # code working\n",
    "    )\n",
    "password_field = WebDriverWait(driver, 10).until(\n",
    "         EC.presence_of_element_located((By.ID, 'loginStat_password')) # code working\n",
    "    )\n",
    "login_button = WebDriverWait(driver, 10).until(\n",
    "        EC.element_to_be_clickable((By.ID, 'loginStat_submitLogin'))     # code working\n",
    "    )\n",
    "\n",
    "# Enter credentials \n",
    "username_field.send_keys(config.USERNAME)\n",
    "password_field.send_keys(config.PASSWORD)\n",
    "\n",
    "# username_field.click()\n",
    "# password_field.click()\n",
    "login_button.click()"
   ]
  },
  {
   "cell_type": "code",
   "execution_count": 8,
   "metadata": {},
   "outputs": [],
   "source": [
    "# access NHL franchise value site once login successful\n",
    "nhl_franchise_site = 'https://www.statista.com/statistics/193732/franchise-value-of-national-hockey-league-teams-in-2010/'\n",
    "driver.get(nhl_franchise_site)"
   ]
  },
  {
   "cell_type": "code",
   "execution_count": 10,
   "metadata": {},
   "outputs": [],
   "source": [
    "# Same code as previous siteS, HTML elements seem to be similar page to page\n",
    "settings_button = WebDriverWait(driver, 10).until(\n",
    "    EC.element_to_be_clickable((By.XPATH, '//button[@aria-label=\"Settings\"]'))\n",
    ")\n",
    "settings_button.click()"
   ]
  },
  {
   "cell_type": "code",
   "execution_count": 11,
   "metadata": {},
   "outputs": [],
   "source": [
    "# Select data table option in Chart Type window\n",
    "table_chart = driver.find_element(By.XPATH, '//button[@aria-label=\"Display table\"]')\n",
    "table_chart.click()"
   ]
  },
  {
   "cell_type": "code",
   "execution_count": 12,
   "metadata": {},
   "outputs": [],
   "source": [
    "# Select 50 record count option in 'Records' dropdown\n",
    "records_select = WebDriverWait(driver, 20).until(\n",
    "    EC.presence_of_element_located((By.XPATH, \"//label[contains(text(), 'Records:')]/select\"))\n",
    ")\n",
    "# Create select object\n",
    "selection = Select(records_select)\n",
    "\n",
    "# Select 50 records option by text\n",
    "selection.select_by_visible_text('50')"
   ]
  },
  {
   "cell_type": "code",
   "execution_count": 13,
   "metadata": {},
   "outputs": [
    {
     "name": "stdout",
     "output_type": "stream",
     "text": [
      "[]\n",
      "['Toronto Maple Leafs', '2,800']\n",
      "['New York Rangers', '2,650']\n",
      "['Montreal Canadiens', '2,300']\n",
      "['Los Angeles Kings', '2,000']\n",
      "['Boston Bruins', '1,900']\n",
      "['Chicago Blackhawks', '1,875']\n",
      "['Edmonton Oilers', '1,850']\n",
      "['Philadelphia Flyers', '1,650']\n",
      "['Washington Capitals', '1,600']\n",
      "['New York Islanders', '1,550']\n",
      "['New Jersey Devils', '1,450']\n",
      "['Vancouver Canucks', '1,325']\n",
      "['Tampa Bay Lightning', '1,250']\n",
      "['Seattle Kraken', '1,225']\n",
      "['Detroit Red Wings', '1,200']\n",
      "['Pittsburgh Penguins', '1,175']\n",
      "['Colorado Avalanche', '1,150']\n",
      "['Vegas Golden Knights', '1,125']\n",
      "['Calgary Flames', '1,100']\n",
      "['Dallas Stars', '1,080']\n",
      "['Minnesota Wild', '1,050']\n",
      "['St. Louis Blues', '990']\n",
      "['Nashville Predators', '975']\n",
      "['Ottawa Senators', '950']\n",
      "['Anaheim Ducks', '925']\n",
      "['San Jose Sharks', '900']\n",
      "['Carolina Hurricanes', '825']\n",
      "['Winnipeg Jets', '780']\n",
      "['Florida Panthers', '775']\n",
      "['Columbus Blue Jackets', '765']\n",
      "['Buffalo Sabres', '750']\n",
      "['Arizona Coyotes', '500']\n"
     ]
    }
   ],
   "source": [
    "# Locate table and store in variable\n",
    "nhl_franchise_table = WebDriverWait(driver, 10).until(\n",
    "        EC.presence_of_element_located((By.CLASS_NAME, \"dataTable\"))  \n",
    "    )\n",
    "\n",
    "# Extract data from table \n",
    "nhl_franchise_rows = nhl_franchise_table.find_elements(By.TAG_NAME, \"tr\")\n",
    "nhl_franchise_data = []\n",
    "\n",
    "# Iterate over table extracting table data from <td> tags\n",
    "for row in nhl_franchise_rows:\n",
    "    cells = row.find_elements(By.TAG_NAME, \"td\")\n",
    "    row_data = [cell.text for cell in cells]\n",
    "    nhl_franchise_data.append(row_data)\n",
    "\n",
    "# Print the scraped nhl_franchise value data list\n",
    "for row in nhl_franchise_data:\n",
    "        print(row)"
   ]
  }
 ],
 "metadata": {
  "kernelspec": {
   "display_name": "dev",
   "language": "python",
   "name": "python3"
  },
  "language_info": {
   "codemirror_mode": {
    "name": "ipython",
    "version": 3
   },
   "file_extension": ".py",
   "mimetype": "text/x-python",
   "name": "python",
   "nbconvert_exporter": "python",
   "pygments_lexer": "ipython3",
   "version": "3.10.11"
  }
 },
 "nbformat": 4,
 "nbformat_minor": 2
}
