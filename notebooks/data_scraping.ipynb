{
 "cells": [
  {
   "cell_type": "code",
   "execution_count": 5,
   "metadata": {},
   "outputs": [],
   "source": [
    "# Import necessary modules for scraping\n",
    "from bs4 import BeautifulSoup as bs\n",
    "import pandas as pd\n",
    "# Selenium imports\n",
    "from selenium import webdriver\n",
    "from selenium.webdriver.common.by import By\n",
    "from selenium.webdriver.common.keys import Keys\n",
    "from selenium.webdriver.support.ui import WebDriverWait\n",
    "from selenium.webdriver.support import expected_conditions as EC\n",
    "from selenium.webdriver.chrome.service import Service\n",
    "from webdriver_manager.chrome import ChromeDriverManager\n",
    "import time\n"
   ]
  },
  {
   "cell_type": "markdown",
   "metadata": {},
   "source": [
    "## NFL Data Scraping\n",
    "* Dynamic (Franchise Value 2023) https://www.statista.com/statistics/193534/franchise-value-of-national-football-league-teams-in-2010/\n",
    "    \n",
    "    1. click on \"adjust statistic presentation button (resembles normal \"settings\" button), button element:\n",
    "    ```\n",
    "    <button aria-label=\"Settings\" aria-haspopup=\"true\" data-gtm=\"statisticGraph__icon--settings\" type=\"button\" class=\"toolbar__item panelCard padding-all-10 flex-s--grow\" tabindex=\"0\"><svg aria-hidden=\"true\" height=\"12\" width=\"18\" class=\"toolbar__icon uiIcon--default\"><use href=\"#iconAdjustmentFill\"></use></svg></button>\n",
    "    ```\n",
    "    2. select grid option, element:\n",
    "    ``` \n",
    "    <button aria-label=\"Display table\" class=\"button button--active\"><svg aria-hidden=\"true\" height=\"16\" width=\"16\"><use href=\"#iconChartTableFill\"></use></svg></button>\n",
    "    ```\n",
    "    3. Select 50 under Records drop down\n",
    "    ``` \n",
    "    <select id=\"dataTablePageSize1717123935205\"><option> <option>50</option> \n",
    "    ```\n",
    "    4. data is now present in \"Inspect\"\n",
    "    5. data is in this format in HTML \n",
    "    ```\n",
    "    <span>New York Giants</span> , <span>6.8</span>```\n",
    "     ```\n",
    "     <tr> </tr>\n",
    "     ``` \n",
    "    in table row format\n",
    "    "
   ]
  },
  {
   "cell_type": "code",
   "execution_count": 9,
   "metadata": {},
   "outputs": [],
   "source": [
    "# 1. Dynamic (Franchise Value 2023)\n",
    "# Set up WebDriver\n",
    "driver = webdriver.Chrome(service=Service(ChromeDriverManager().install()))\n",
    "\n",
    "# Open the website\n",
    "url = 'https://www.statista.com/statistics/193534/franchise-value-of-national-football-league-teams-in-2010/'\n",
    "driver.get(url)"
   ]
  },
  {
   "cell_type": "code",
   "execution_count": 10,
   "metadata": {},
   "outputs": [],
   "source": [
    "# Click \"Only necessary\" for cookie options\n",
    "# <button id=\"onetrust-reject-all-handler\">Only necessary</button>\n",
    "button = WebDriverWait(driver, 10).until(\n",
    "    EC.element_to_be_clickable((By.XPATH, '//*[text()=\"Only necessary\"]'))\n",
    ")\n",
    "button.click()\n"
   ]
  },
  {
   "cell_type": "markdown",
   "metadata": {},
   "source": [
    "<button aria-label=\"Settings\" aria-haspopup=\"true\" data-gtm=\"statisticGraph__icon--settings\" type=\"button\" class=\"toolbar__item panelCard padding-all-10 flex-s--grow toolbar__item--active\" tabindex=\"0\"><svg aria-hidden=\"true\" height=\"12\" width=\"18\" class=\"toolbar__icon uiIcon--default\"><use href=\"#iconAdjustmentFill\"></use></svg></button>\n",
    "\n"
   ]
  },
  {
   "cell_type": "code",
   "execution_count": 14,
   "metadata": {},
   "outputs": [],
   "source": [
    "# Select \"adjust statistic presentation\" button (resembles normal \"settings\" button)\n",
    "# <svg aria-hidden=\"true\" height=\"12\" width=\"18\" class=\"toolbar__icon uiIcon--default\"><use href=\"#iconAdjustmentFill\"></use></svg>\n",
    "adjust_button = WebDriverWait(driver, 10).until(\n",
    "    EC.element_to_be_clickable((By.XPATH, '//button[@aria-label=\"Settings\"]'))\n",
    ")\n",
    "adjust_button.click()"
   ]
  },
  {
   "cell_type": "code",
   "execution_count": 15,
   "metadata": {},
   "outputs": [],
   "source": [
    "# Select table format button under chart type \n",
    "chart_button = WebDriverWait(driver, 10).until(\n",
    "    EC.element_to_be_clickable((By.XPATH, '//button[@aria-label=\"Settings\"]'))\n",
    ")\n",
    "chart_button.click()"
   ]
  },
  {
   "cell_type": "code",
   "execution_count": null,
   "metadata": {},
   "outputs": [],
   "source": []
  },
  {
   "cell_type": "code",
   "execution_count": null,
   "metadata": {},
   "outputs": [],
   "source": []
  },
  {
   "cell_type": "code",
   "execution_count": null,
   "metadata": {},
   "outputs": [],
   "source": []
  },
  {
   "cell_type": "code",
   "execution_count": 18,
   "metadata": {},
   "outputs": [],
   "source": [
    "# Close Chrome driver\n",
    "driver.quit()"
   ]
  },
  {
   "cell_type": "code",
   "execution_count": null,
   "metadata": {},
   "outputs": [],
   "source": []
  }
 ],
 "metadata": {
  "kernelspec": {
   "display_name": "dev",
   "language": "python",
   "name": "python3"
  },
  "language_info": {
   "codemirror_mode": {
    "name": "ipython",
    "version": 3
   },
   "file_extension": ".py",
   "mimetype": "text/x-python",
   "name": "python",
   "nbconvert_exporter": "python",
   "pygments_lexer": "ipython3",
   "version": "3.10.11"
  }
 },
 "nbformat": 4,
 "nbformat_minor": 2
}
