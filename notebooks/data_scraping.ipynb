{
 "cells": [
  {
   "cell_type": "code",
   "execution_count": 1,
   "metadata": {},
   "outputs": [],
   "source": [
    "# Import necessary modules for scraping\n",
    "from bs4 import BeautifulSoup as bs\n",
    "import pandas as pd\n",
    "# Selenium imports\n",
    "from selenium import webdriver\n",
    "from selenium.webdriver.common.by import By\n",
    "from selenium.webdriver.common.keys import Keys\n",
    "from selenium.webdriver.support.ui import WebDriverWait\n",
    "from selenium.webdriver.support import expected_conditions as EC\n",
    "from selenium.webdriver.chrome.service import Service\n",
    "from webdriver_manager.chrome import ChromeDriverManager\n",
    "from selenium.common.exceptions import TimeoutException\n",
    "import time\n"
   ]
  },
  {
   "cell_type": "markdown",
   "metadata": {},
   "source": [
    "## NFL Data Scraping\n",
    "* Dynamic (Franchise Value 2023) https://www.statista.com/statistics/193534/franchise-value-of-national-football-league-teams-in-2010/\n",
    "    \n",
    "    1. click on \"adjust statistic presentation button (resembles normal \"settings\" button), button element:\n",
    "    ```\n",
    "    <button aria-label=\"Settings\" aria-haspopup=\"true\" data-gtm=\"statisticGraph__icon--settings\" type=\"button\" class=\"toolbar__item panelCard padding-all-10 flex-s--grow\" tabindex=\"0\"><svg aria-hidden=\"true\" height=\"12\" width=\"18\" class=\"toolbar__icon uiIcon--default\"><use href=\"#iconAdjustmentFill\"></use></svg></button>\n",
    "    ```\n",
    "    2. select grid option, element:\n",
    "    ``` \n",
    "    <button aria-label=\"Display table\" class=\"button button--active\"><svg aria-hidden=\"true\" height=\"16\" width=\"16\"><use href=\"#iconChartTableFill\"></use></svg></button>\n",
    "    ```\n",
    "    3. Select 50 under Records drop down\n",
    "    ``` \n",
    "    <select id=\"dataTablePageSize1717123935205\"><option> <option>50</option> \n",
    "    ```\n",
    "    4. data is now present in \"Inspect\"\n",
    "    5. data is in this format in HTML \n",
    "    ```\n",
    "    <span>New York Giants</span> , <span>6.8</span>```\n",
    "     ```\n",
    "     <tr> </tr>\n",
    "     ``` \n",
    "    in table row format\n",
    "    "
   ]
  },
  {
   "cell_type": "code",
   "execution_count": 2,
   "metadata": {},
   "outputs": [],
   "source": [
    "# 1. Dynamic (Franchise Value 2023)\n",
    "# Set up WebDriver\n",
    "driver = webdriver.Chrome(service=Service(ChromeDriverManager().install()))\n",
    "\n",
    "# Open the website\n",
    "url = 'https://www.statista.com/statistics/193534/franchise-value-of-national-football-league-teams-in-2010/'\n",
    "driver.get(url)"
   ]
  },
  {
   "cell_type": "code",
   "execution_count": 3,
   "metadata": {},
   "outputs": [],
   "source": [
    "# Click \"Only necessary\" for cookie options\n",
    "# <button id=\"onetrust-reject-all-handler\">Only necessary</button>\n",
    "button = WebDriverWait(driver, 10).until(\n",
    "    EC.element_to_be_clickable((By.XPATH, '//*[text()=\"Only necessary\"]'))\n",
    ")\n",
    "button.click()\n"
   ]
  },
  {
   "cell_type": "markdown",
   "metadata": {},
   "source": [
    "<button aria-label=\"Settings\" aria-haspopup=\"true\" data-gtm=\"statisticGraph__icon--settings\" type=\"button\" class=\"toolbar__item panelCard padding-all-10 flex-s--grow toolbar__item--active\" tabindex=\"0\"><svg aria-hidden=\"true\" height=\"12\" width=\"18\" class=\"toolbar__icon uiIcon--default\"><use href=\"#iconAdjustmentFill\"></use></svg></button>\n",
    "\n"
   ]
  },
  {
   "cell_type": "code",
   "execution_count": 4,
   "metadata": {},
   "outputs": [],
   "source": [
    "# Select \"adjust statistic presentation\" button (resembles normal \"settings\" button)\n",
    "# <svg aria-hidden=\"true\" height=\"12\" width=\"18\" class=\"toolbar__icon uiIcon--default\"><use href=\"#iconAdjustmentFill\"></use></svg>\n",
    "adjust_button = WebDriverWait(driver, 10).until(\n",
    "    EC.element_to_be_clickable((By.XPATH, '//button[@aria-label=\"Settings\"]'))\n",
    ")\n",
    "adjust_button.click()"
   ]
  },
  {
   "cell_type": "code",
   "execution_count": 7,
   "metadata": {},
   "outputs": [],
   "source": [
    "# Select table format button under chart type \n",
    "chart_button = WebDriverWait(driver, 10).until(\n",
    "    EC.element_to_be_clickable((By.XPATH, '//button[@aria-label=\"Settings\"]'))\n",
    ")\n",
    "chart_button.click()"
   ]
  },
  {
   "cell_type": "code",
   "execution_count": 8,
   "metadata": {},
   "outputs": [],
   "source": [
    "# Select data table option in Chart Type window\n",
    "# try:\n",
    "table_button = driver.find_element(By.CLASS_NAME, 'button--active')\n",
    "# table_button = WebDriverWait(driver, 10).until(\n",
    "#         EC.find_element(By.CLASS_NAME, \"button--active\")\n",
    "#     )\n",
    "table_button.click()\n",
    "\n",
    "# except TimeoutException as e:\n",
    "#     print(f\"TimeoutException: Element not found within the specified wait time.\")\n",
    "#     print(f\"Error: {e}\")\n",
    "#     #driver.save_screenshot('timeout_error_screenshot.png')\n",
    "# except Exception as e:\n",
    "#     print(f\"An error occurred: {e}\")"
   ]
  },
  {
   "cell_type": "code",
   "execution_count": null,
   "metadata": {},
   "outputs": [],
   "source": [
    "# Element containing Login hyperlink\n",
    "# <span data-gtm=\"conversionTeaser__anonymUserLoginLink--statisticFree\" data-navigation-login-click=\"\" class=\"text-underline cursor-pointer text-color--primary-contrast text-semibold\">Login</span>"
   ]
  },
  {
   "cell_type": "code",
   "execution_count": 9,
   "metadata": {},
   "outputs": [],
   "source": [
    "# Select Login link button \n",
    "login = WebDriverWait(driver, 20).until(\n",
    "    EC.element_to_be_clickable((By.XPATH, '//span[@data-gtm=\"conversionTeaser__anonymUserLoginLink--statisticFree\"]'))\n",
    ")\n",
    "login.click()"
   ]
  },
  {
   "cell_type": "code",
   "execution_count": 18,
   "metadata": {},
   "outputs": [
    {
     "ename": "AttributeError",
     "evalue": "module 'config' has no attribute 'USERNAME'",
     "output_type": "error",
     "traceback": [
      "\u001b[1;31m---------------------------------------------------------------------------\u001b[0m",
      "\u001b[1;31mAttributeError\u001b[0m                            Traceback (most recent call last)",
      "Cell \u001b[1;32mIn[18], line 15\u001b[0m\n\u001b[0;32m     10\u001b[0m login_button \u001b[38;5;241m=\u001b[39m WebDriverWait(driver, \u001b[38;5;241m10\u001b[39m)\u001b[38;5;241m.\u001b[39muntil(\n\u001b[0;32m     11\u001b[0m         EC\u001b[38;5;241m.\u001b[39melement_to_be_clickable((By\u001b[38;5;241m.\u001b[39mID, \u001b[38;5;124m'\u001b[39m\u001b[38;5;124mloginStat_submitLogin\u001b[39m\u001b[38;5;124m'\u001b[39m))     \u001b[38;5;66;03m# code working\u001b[39;00m\n\u001b[0;32m     12\u001b[0m     )\n\u001b[0;32m     14\u001b[0m \u001b[38;5;66;03m# Enter credentials \u001b[39;00m\n\u001b[1;32m---> 15\u001b[0m username_field\u001b[38;5;241m.\u001b[39msend_keys(\u001b[43mconfig\u001b[49m\u001b[38;5;241;43m.\u001b[39;49m\u001b[43mUSERNAME\u001b[49m)\n\u001b[0;32m     16\u001b[0m password_field\u001b[38;5;241m.\u001b[39msend_keys(config\u001b[38;5;241m.\u001b[39mPASSWORD)\n\u001b[0;32m     18\u001b[0m \u001b[38;5;66;03m# username_field.click()\u001b[39;00m\n\u001b[0;32m     19\u001b[0m \u001b[38;5;66;03m# password_field.click()\u001b[39;00m\n",
      "\u001b[1;31mAttributeError\u001b[0m: module 'config' has no attribute 'USERNAME'"
     ]
    }
   ],
   "source": [
    "# Enter my login credentials from the config.py file (.gitignore'd)\n",
    "import config\n",
    "\n",
    "username_field = WebDriverWait(driver, 10).until(\n",
    "        EC.presence_of_element_located((By.ID, 'loginStat_username'))  # code working\n",
    "    )\n",
    "password_field = WebDriverWait(driver, 10).until(\n",
    "         EC.presence_of_element_located((By.ID, 'loginStat_password')) # code working\n",
    "    )\n",
    "login_button = WebDriverWait(driver, 10).until(\n",
    "        EC.element_to_be_clickable((By.ID, 'loginStat_submitLogin'))     # code working\n",
    "    )\n",
    "\n",
    "# Enter credentials \n",
    "username_field.send_keys(config.USERNAME)\n",
    "password_field.send_keys(config.PASSWORD)\n",
    "\n",
    "# username_field.click()\n",
    "# password_field.click()\n",
    "login_button.click()"
   ]
  },
  {
   "cell_type": "markdown",
   "metadata": {},
   "source": [
    "<button id=\"loginStat_submitLogin\" type=\"submit\" name=\"loginStat[submitLogin]\" data-gtm=\"ll_login\" class=\"button button--primary button--medium\"><!----> \n",
    "                    Log in\n",
    "                </button>"
   ]
  },
  {
   "cell_type": "code",
   "execution_count": null,
   "metadata": {},
   "outputs": [],
   "source": [
    "# Close Chrome driver\n",
    "# driver.quit()"
   ]
  },
  {
   "cell_type": "code",
   "execution_count": null,
   "metadata": {},
   "outputs": [],
   "source": []
  }
 ],
 "metadata": {
  "kernelspec": {
   "display_name": "dev",
   "language": "python",
   "name": "python3"
  },
  "language_info": {
   "codemirror_mode": {
    "name": "ipython",
    "version": 3
   },
   "file_extension": ".py",
   "mimetype": "text/x-python",
   "name": "python",
   "nbconvert_exporter": "python",
   "pygments_lexer": "ipython3",
   "version": "3.10.11"
  }
 },
 "nbformat": 4,
 "nbformat_minor": 2
}
