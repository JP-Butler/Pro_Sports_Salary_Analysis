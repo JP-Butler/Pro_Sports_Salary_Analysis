{
 "cells": [
  {
   "cell_type": "code",
   "execution_count": 1,
   "metadata": {},
   "outputs": [],
   "source": [
    "# Import module/s\n",
    "import pandas as pd\n",
    "import numpy as np"
   ]
  },
  {
   "cell_type": "code",
   "execution_count": 9,
   "metadata": {},
   "outputs": [
    {
     "data": {
      "text/html": [
       "<div>\n",
       "<style scoped>\n",
       "    .dataframe tbody tr th:only-of-type {\n",
       "        vertical-align: middle;\n",
       "    }\n",
       "\n",
       "    .dataframe tbody tr th {\n",
       "        vertical-align: top;\n",
       "    }\n",
       "\n",
       "    .dataframe thead th {\n",
       "        text-align: right;\n",
       "    }\n",
       "</style>\n",
       "<table border=\"1\" class=\"dataframe\">\n",
       "  <thead>\n",
       "    <tr style=\"text-align: right;\">\n",
       "      <th></th>\n",
       "      <th>Player</th>\n",
       "      <th>2017</th>\n",
       "      <th>2016</th>\n",
       "      <th>2015</th>\n",
       "      <th>2014</th>\n",
       "      <th>2013</th>\n",
       "      <th>2012</th>\n",
       "      <th>2011</th>\n",
       "      <th>2010</th>\n",
       "      <th>2009</th>\n",
       "      <th>...</th>\n",
       "      <th>2000</th>\n",
       "      <th>1999</th>\n",
       "      <th>1998</th>\n",
       "      <th>1997</th>\n",
       "      <th>1996</th>\n",
       "      <th>1995</th>\n",
       "      <th>1994</th>\n",
       "      <th>1993</th>\n",
       "      <th>1992</th>\n",
       "      <th>1991</th>\n",
       "    </tr>\n",
       "  </thead>\n",
       "  <tbody>\n",
       "    <tr>\n",
       "      <th>0</th>\n",
       "      <td>A.C. Green</td>\n",
       "      <td>NaN</td>\n",
       "      <td>NaN</td>\n",
       "      <td>NaN</td>\n",
       "      <td>NaN</td>\n",
       "      <td>NaN</td>\n",
       "      <td>NaN</td>\n",
       "      <td>NaN</td>\n",
       "      <td>NaN</td>\n",
       "      <td>NaN</td>\n",
       "      <td>...</td>\n",
       "      <td>1700000.0</td>\n",
       "      <td>5125088</td>\n",
       "      <td>5095088.0</td>\n",
       "      <td>4851000.0</td>\n",
       "      <td>6473000</td>\n",
       "      <td>6472600.0</td>\n",
       "      <td>1885000.0</td>\n",
       "      <td>1750000.0</td>\n",
       "      <td>1750000.0</td>\n",
       "      <td>1750000.0</td>\n",
       "    </tr>\n",
       "    <tr>\n",
       "      <th>1</th>\n",
       "      <td>A.J. Bramlett</td>\n",
       "      <td>NaN</td>\n",
       "      <td>NaN</td>\n",
       "      <td>NaN</td>\n",
       "      <td>NaN</td>\n",
       "      <td>NaN</td>\n",
       "      <td>NaN</td>\n",
       "      <td>NaN</td>\n",
       "      <td>NaN</td>\n",
       "      <td>NaN</td>\n",
       "      <td>...</td>\n",
       "      <td>118974.0</td>\n",
       "      <td>NaN</td>\n",
       "      <td>NaN</td>\n",
       "      <td>NaN</td>\n",
       "      <td>NaN</td>\n",
       "      <td>NaN</td>\n",
       "      <td>NaN</td>\n",
       "      <td>NaN</td>\n",
       "      <td>NaN</td>\n",
       "      <td>NaN</td>\n",
       "    </tr>\n",
       "    <tr>\n",
       "      <th>2</th>\n",
       "      <td>A.J. English</td>\n",
       "      <td>NaN</td>\n",
       "      <td>NaN</td>\n",
       "      <td>NaN</td>\n",
       "      <td>NaN</td>\n",
       "      <td>NaN</td>\n",
       "      <td>NaN</td>\n",
       "      <td>NaN</td>\n",
       "      <td>NaN</td>\n",
       "      <td>NaN</td>\n",
       "      <td>...</td>\n",
       "      <td>NaN</td>\n",
       "      <td>NaN</td>\n",
       "      <td>NaN</td>\n",
       "      <td>NaN</td>\n",
       "      <td>NaN</td>\n",
       "      <td>NaN</td>\n",
       "      <td>150000.0</td>\n",
       "      <td>406000.0</td>\n",
       "      <td>325000.0</td>\n",
       "      <td>275000.0</td>\n",
       "    </tr>\n",
       "    <tr>\n",
       "      <th>3</th>\n",
       "      <td>A.J. Guyton</td>\n",
       "      <td>NaN</td>\n",
       "      <td>NaN</td>\n",
       "      <td>NaN</td>\n",
       "      <td>NaN</td>\n",
       "      <td>NaN</td>\n",
       "      <td>NaN</td>\n",
       "      <td>NaN</td>\n",
       "      <td>NaN</td>\n",
       "      <td>NaN</td>\n",
       "      <td>...</td>\n",
       "      <td>NaN</td>\n",
       "      <td>NaN</td>\n",
       "      <td>NaN</td>\n",
       "      <td>NaN</td>\n",
       "      <td>NaN</td>\n",
       "      <td>NaN</td>\n",
       "      <td>NaN</td>\n",
       "      <td>NaN</td>\n",
       "      <td>NaN</td>\n",
       "      <td>NaN</td>\n",
       "    </tr>\n",
       "    <tr>\n",
       "      <th>4</th>\n",
       "      <td>A.J. Price</td>\n",
       "      <td>NaN</td>\n",
       "      <td>NaN</td>\n",
       "      <td>281484.0</td>\n",
       "      <td>947907.0</td>\n",
       "      <td>885120.0</td>\n",
       "      <td>854389.0</td>\n",
       "      <td>762195.0</td>\n",
       "      <td>457588.0</td>\n",
       "      <td>NaN</td>\n",
       "      <td>...</td>\n",
       "      <td>NaN</td>\n",
       "      <td>NaN</td>\n",
       "      <td>NaN</td>\n",
       "      <td>NaN</td>\n",
       "      <td>NaN</td>\n",
       "      <td>NaN</td>\n",
       "      <td>NaN</td>\n",
       "      <td>NaN</td>\n",
       "      <td>NaN</td>\n",
       "      <td>NaN</td>\n",
       "    </tr>\n",
       "  </tbody>\n",
       "</table>\n",
       "<p>5 rows × 28 columns</p>\n",
       "</div>"
      ],
      "text/plain": [
       "          Player  2017  2016      2015      2014      2013      2012  \\\n",
       "0     A.C. Green   NaN   NaN       NaN       NaN       NaN       NaN   \n",
       "1  A.J. Bramlett   NaN   NaN       NaN       NaN       NaN       NaN   \n",
       "2   A.J. English   NaN   NaN       NaN       NaN       NaN       NaN   \n",
       "3    A.J. Guyton   NaN   NaN       NaN       NaN       NaN       NaN   \n",
       "4     A.J. Price   NaN   NaN  281484.0  947907.0  885120.0  854389.0   \n",
       "\n",
       "       2011      2010  2009  ...       2000     1999       1998       1997  \\\n",
       "0       NaN       NaN   NaN  ...  1700000.0  5125088  5095088.0  4851000.0   \n",
       "1       NaN       NaN   NaN  ...   118974.0      NaN        NaN        NaN   \n",
       "2       NaN       NaN   NaN  ...        NaN      NaN        NaN        NaN   \n",
       "3       NaN       NaN   NaN  ...        NaN      NaN        NaN        NaN   \n",
       "4  762195.0  457588.0   NaN  ...        NaN      NaN        NaN        NaN   \n",
       "\n",
       "      1996       1995       1994       1993       1992       1991  \n",
       "0  6473000  6472600.0  1885000.0  1750000.0  1750000.0  1750000.0  \n",
       "1      NaN        NaN        NaN        NaN        NaN        NaN  \n",
       "2      NaN        NaN   150000.0   406000.0   325000.0   275000.0  \n",
       "3      NaN        NaN        NaN        NaN        NaN        NaN  \n",
       "4      NaN        NaN        NaN        NaN        NaN        NaN  \n",
       "\n",
       "[5 rows x 28 columns]"
      ]
     },
     "execution_count": 9,
     "metadata": {},
     "output_type": "execute_result"
    }
   ],
   "source": [
    "# Read in NBA csv for player salary data\n",
    "# Set encoding to ISO-8859-1\n",
    "nba_csv = '../data/raw/NBA_PlayerByYear.csv'\n",
    "nba_data = pd.read_csv(nba_csv, sep=';', encoding='ISO-8859-1')\n",
    "\n",
    "# Create DataFrame\n",
    "nba_df = pd.DataFrame(nba_data)\n",
    "nba_df.head()"
   ]
  },
  {
   "cell_type": "code",
   "execution_count": 10,
   "metadata": {},
   "outputs": [
    {
     "name": "stdout",
     "output_type": "stream",
     "text": [
      "<class 'pandas.core.frame.DataFrame'>\n",
      "RangeIndex: 2204 entries, 0 to 2203\n",
      "Data columns (total 28 columns):\n",
      " #   Column  Non-Null Count  Dtype  \n",
      "---  ------  --------------  -----  \n",
      " 0   Player  2204 non-null   object \n",
      " 1   2017    499 non-null    float64\n",
      " 2   2016    500 non-null    float64\n",
      " 3   2015    513 non-null    float64\n",
      " 4   2014    501 non-null    float64\n",
      " 5   2013    481 non-null    float64\n",
      " 6   2012    464 non-null    float64\n",
      " 7   2011    460 non-null    float64\n",
      " 8   2010    457 non-null    float64\n",
      " 9   2009    461 non-null    float64\n",
      " 10  2008    470 non-null    float64\n",
      " 11  2007    496 non-null    float64\n",
      " 12  2006    480 non-null    float64\n",
      " 13  2005    471 non-null    float64\n",
      " 14  2004    455 non-null    float64\n",
      " 15  2003    452 non-null    float64\n",
      " 16  2002    451 non-null    float64\n",
      " 17  2001    456 non-null    float64\n",
      " 18  2000    517 non-null    float64\n",
      " 19  1999    447 non-null    object \n",
      " 20  1998    445 non-null    float64\n",
      " 21  1997    416 non-null    float64\n",
      " 22  1996    461 non-null    object \n",
      " 23  1995    419 non-null    float64\n",
      " 24  1994    386 non-null    float64\n",
      " 25  1993    402 non-null    float64\n",
      " 26  1992    384 non-null    float64\n",
      " 27  1991    353 non-null    float64\n",
      "dtypes: float64(25), object(3)\n",
      "memory usage: 482.2+ KB\n"
     ]
    }
   ],
   "source": [
    "# Get info on NBA data\n",
    "nba_df.info()"
   ]
  },
  {
   "cell_type": "code",
   "execution_count": 17,
   "metadata": {},
   "outputs": [
    {
     "name": "stdout",
     "output_type": "stream",
     "text": [
      "Total 'Unknown' values: 0\n"
     ]
    }
   ],
   "source": [
    "# Check for 'Unknown' values in the entire DataFrame\n",
    "unknown_values_mask = nba_df.applymap(lambda x: x == 'Unknown')\n",
    "\n",
    "# Get the rows and columns where 'Unknown' values are present\n",
    "unknown_values_locations = (unknown_values_mask).any(axis=1)\n",
    "\n",
    "# Display rows where 'Unknown' values are present\n",
    "rows_with_unknown_values = nba_df[unknown_values_locations]\n",
    "# print(rows_with_unknown_values)\n",
    "\n",
    "# Display quantity of 'Unknown' values \n",
    "total_unknown_values = rows_with_unknown_values.count().sum()\n",
    "print(\"Total 'Unknown' values:\", total_unknown_values)\n"
   ]
  },
  {
   "cell_type": "code",
   "execution_count": 18,
   "metadata": {},
   "outputs": [
    {
     "name": "stdout",
     "output_type": "stream",
     "text": [
      "Total 'Unknown' values: 0\n"
     ]
    }
   ],
   "source": [
    "# Replace 'Unknown's with NaN to match other non-numeric (NaN) values\n",
    "nba_df = nba_df.replace(to_replace='Unknown', value=np.nan)\n",
    "\n",
    "# Re-Check 'Unknown' values\n",
    "print(\"Total 'Unknown' values:\", total_unknown_values)"
   ]
  },
  {
   "cell_type": "code",
   "execution_count": 20,
   "metadata": {},
   "outputs": [
    {
     "name": "stdout",
     "output_type": "stream",
     "text": [
      "<class 'pandas.core.frame.DataFrame'>\n",
      "RangeIndex: 2204 entries, 0 to 2203\n",
      "Data columns (total 28 columns):\n",
      " #   Column  Non-Null Count  Dtype  \n",
      "---  ------  --------------  -----  \n",
      " 0   Player  2204 non-null   object \n",
      " 1   2017    499 non-null    float64\n",
      " 2   2016    500 non-null    float64\n",
      " 3   2015    513 non-null    float64\n",
      " 4   2014    501 non-null    float64\n",
      " 5   2013    481 non-null    float64\n",
      " 6   2012    464 non-null    float64\n",
      " 7   2011    460 non-null    float64\n",
      " 8   2010    457 non-null    float64\n",
      " 9   2009    461 non-null    float64\n",
      " 10  2008    470 non-null    float64\n",
      " 11  2007    496 non-null    float64\n",
      " 12  2006    480 non-null    float64\n",
      " 13  2005    471 non-null    float64\n",
      " 14  2004    455 non-null    float64\n",
      " 15  2003    452 non-null    float64\n",
      " 16  2002    451 non-null    float64\n",
      " 17  2001    456 non-null    float64\n",
      " 18  2000    517 non-null    float64\n",
      " 19  1999    427 non-null    float64\n",
      " 20  1998    445 non-null    float64\n",
      " 21  1997    416 non-null    float64\n",
      " 22  1996    450 non-null    float64\n",
      " 23  1995    419 non-null    float64\n",
      " 24  1994    386 non-null    float64\n",
      " 25  1993    402 non-null    float64\n",
      " 26  1992    384 non-null    float64\n",
      " 27  1991    353 non-null    float64\n",
      "dtypes: float64(27), object(1)\n",
      "memory usage: 482.2+ KB\n"
     ]
    }
   ],
   "source": [
    "# Convert the object type columns to floats\n",
    "nba_df['1999'] = nba_df['1999'].astype(float)\n",
    "nba_df['1996'] = nba_df['1996'].astype(float)\n",
    "\n",
    "# Re-check data\n",
    "nba_df.info()"
   ]
  },
  {
   "cell_type": "code",
   "execution_count": 21,
   "metadata": {},
   "outputs": [
    {
     "ename": "TypeError",
     "evalue": "ufunc 'modf' not supported for the input types, and the inputs could not be safely coerced to any supported types according to the casting rule ''safe''",
     "output_type": "error",
     "traceback": [
      "\u001b[1;31m---------------------------------------------------------------------------\u001b[0m",
      "\u001b[1;31mTypeError\u001b[0m                                 Traceback (most recent call last)",
      "Cell \u001b[1;32mIn[21], line 2\u001b[0m\n\u001b[0;32m      1\u001b[0m \u001b[38;5;66;03m# Check if any values have decimal parts\u001b[39;00m\n\u001b[1;32m----> 2\u001b[0m has_decimal_values \u001b[38;5;241m=\u001b[39m (\u001b[43mnba_df\u001b[49m\u001b[38;5;241;43m.\u001b[39;49m\u001b[43mapplymap\u001b[49m\u001b[43m(\u001b[49m\u001b[38;5;28;43;01mlambda\u001b[39;49;00m\u001b[43m \u001b[49m\u001b[43mx\u001b[49m\u001b[43m:\u001b[49m\u001b[43m \u001b[49m\u001b[43mnp\u001b[49m\u001b[38;5;241;43m.\u001b[39;49m\u001b[43mmodf\u001b[49m\u001b[43m(\u001b[49m\u001b[43mx\u001b[49m\u001b[43m)\u001b[49m\u001b[43m[\u001b[49m\u001b[38;5;241;43m0\u001b[39;49m\u001b[43m]\u001b[49m\u001b[43m \u001b[49m\u001b[38;5;241;43m!=\u001b[39;49m\u001b[43m \u001b[49m\u001b[38;5;241;43m0\u001b[39;49m\u001b[43m)\u001b[49m)\u001b[38;5;241m.\u001b[39many()\u001b[38;5;241m.\u001b[39many()\n\u001b[0;32m      4\u001b[0m \u001b[38;5;28;01mif\u001b[39;00m has_decimal_values:\n\u001b[0;32m      5\u001b[0m     \u001b[38;5;28mprint\u001b[39m(\u001b[38;5;124m\"\u001b[39m\u001b[38;5;124mDataFrame has values with decimal parts.\u001b[39m\u001b[38;5;124m\"\u001b[39m)\n",
      "File \u001b[1;32mc:\\Users\\justi\\anaconda3\\envs\\dev\\lib\\site-packages\\pandas\\core\\frame.py:9653\u001b[0m, in \u001b[0;36mDataFrame.applymap\u001b[1;34m(self, func, na_action, **kwargs)\u001b[0m\n\u001b[0;32m   9650\u001b[0m         \u001b[38;5;28;01mreturn\u001b[39;00m lib\u001b[38;5;241m.\u001b[39mmap_infer(x, func, ignore_na\u001b[38;5;241m=\u001b[39mignore_na)\n\u001b[0;32m   9651\u001b[0m     \u001b[38;5;28;01mreturn\u001b[39;00m lib\u001b[38;5;241m.\u001b[39mmap_infer(x\u001b[38;5;241m.\u001b[39mastype(\u001b[38;5;28mobject\u001b[39m)\u001b[38;5;241m.\u001b[39m_values, func, ignore_na\u001b[38;5;241m=\u001b[39mignore_na)\n\u001b[1;32m-> 9653\u001b[0m \u001b[38;5;28;01mreturn\u001b[39;00m \u001b[38;5;28;43mself\u001b[39;49m\u001b[38;5;241;43m.\u001b[39;49m\u001b[43mapply\u001b[49m\u001b[43m(\u001b[49m\u001b[43minfer\u001b[49m\u001b[43m)\u001b[49m\u001b[38;5;241m.\u001b[39m__finalize__(\u001b[38;5;28mself\u001b[39m, \u001b[38;5;124m\"\u001b[39m\u001b[38;5;124mapplymap\u001b[39m\u001b[38;5;124m\"\u001b[39m)\n",
      "File \u001b[1;32mc:\\Users\\justi\\anaconda3\\envs\\dev\\lib\\site-packages\\pandas\\core\\frame.py:9568\u001b[0m, in \u001b[0;36mDataFrame.apply\u001b[1;34m(self, func, axis, raw, result_type, args, **kwargs)\u001b[0m\n\u001b[0;32m   9557\u001b[0m \u001b[38;5;28;01mfrom\u001b[39;00m \u001b[38;5;21;01mpandas\u001b[39;00m\u001b[38;5;21;01m.\u001b[39;00m\u001b[38;5;21;01mcore\u001b[39;00m\u001b[38;5;21;01m.\u001b[39;00m\u001b[38;5;21;01mapply\u001b[39;00m \u001b[38;5;28;01mimport\u001b[39;00m frame_apply\n\u001b[0;32m   9559\u001b[0m op \u001b[38;5;241m=\u001b[39m frame_apply(\n\u001b[0;32m   9560\u001b[0m     \u001b[38;5;28mself\u001b[39m,\n\u001b[0;32m   9561\u001b[0m     func\u001b[38;5;241m=\u001b[39mfunc,\n\u001b[1;32m   (...)\u001b[0m\n\u001b[0;32m   9566\u001b[0m     kwargs\u001b[38;5;241m=\u001b[39mkwargs,\n\u001b[0;32m   9567\u001b[0m )\n\u001b[1;32m-> 9568\u001b[0m \u001b[38;5;28;01mreturn\u001b[39;00m \u001b[43mop\u001b[49m\u001b[38;5;241;43m.\u001b[39;49m\u001b[43mapply\u001b[49m\u001b[43m(\u001b[49m\u001b[43m)\u001b[49m\u001b[38;5;241m.\u001b[39m__finalize__(\u001b[38;5;28mself\u001b[39m, method\u001b[38;5;241m=\u001b[39m\u001b[38;5;124m\"\u001b[39m\u001b[38;5;124mapply\u001b[39m\u001b[38;5;124m\"\u001b[39m)\n",
      "File \u001b[1;32mc:\\Users\\justi\\anaconda3\\envs\\dev\\lib\\site-packages\\pandas\\core\\apply.py:764\u001b[0m, in \u001b[0;36mFrameApply.apply\u001b[1;34m(self)\u001b[0m\n\u001b[0;32m    761\u001b[0m \u001b[38;5;28;01melif\u001b[39;00m \u001b[38;5;28mself\u001b[39m\u001b[38;5;241m.\u001b[39mraw:\n\u001b[0;32m    762\u001b[0m     \u001b[38;5;28;01mreturn\u001b[39;00m \u001b[38;5;28mself\u001b[39m\u001b[38;5;241m.\u001b[39mapply_raw()\n\u001b[1;32m--> 764\u001b[0m \u001b[38;5;28;01mreturn\u001b[39;00m \u001b[38;5;28;43mself\u001b[39;49m\u001b[38;5;241;43m.\u001b[39;49m\u001b[43mapply_standard\u001b[49m\u001b[43m(\u001b[49m\u001b[43m)\u001b[49m\n",
      "File \u001b[1;32mc:\\Users\\justi\\anaconda3\\envs\\dev\\lib\\site-packages\\pandas\\core\\apply.py:891\u001b[0m, in \u001b[0;36mFrameApply.apply_standard\u001b[1;34m(self)\u001b[0m\n\u001b[0;32m    890\u001b[0m \u001b[38;5;28;01mdef\u001b[39;00m \u001b[38;5;21mapply_standard\u001b[39m(\u001b[38;5;28mself\u001b[39m):\n\u001b[1;32m--> 891\u001b[0m     results, res_index \u001b[38;5;241m=\u001b[39m \u001b[38;5;28;43mself\u001b[39;49m\u001b[38;5;241;43m.\u001b[39;49m\u001b[43mapply_series_generator\u001b[49m\u001b[43m(\u001b[49m\u001b[43m)\u001b[49m\n\u001b[0;32m    893\u001b[0m     \u001b[38;5;66;03m# wrap results\u001b[39;00m\n\u001b[0;32m    894\u001b[0m     \u001b[38;5;28;01mreturn\u001b[39;00m \u001b[38;5;28mself\u001b[39m\u001b[38;5;241m.\u001b[39mwrap_results(results, res_index)\n",
      "File \u001b[1;32mc:\\Users\\justi\\anaconda3\\envs\\dev\\lib\\site-packages\\pandas\\core\\apply.py:907\u001b[0m, in \u001b[0;36mFrameApply.apply_series_generator\u001b[1;34m(self)\u001b[0m\n\u001b[0;32m    904\u001b[0m \u001b[38;5;28;01mwith\u001b[39;00m option_context(\u001b[38;5;124m\"\u001b[39m\u001b[38;5;124mmode.chained_assignment\u001b[39m\u001b[38;5;124m\"\u001b[39m, \u001b[38;5;28;01mNone\u001b[39;00m):\n\u001b[0;32m    905\u001b[0m     \u001b[38;5;28;01mfor\u001b[39;00m i, v \u001b[38;5;129;01min\u001b[39;00m \u001b[38;5;28menumerate\u001b[39m(series_gen):\n\u001b[0;32m    906\u001b[0m         \u001b[38;5;66;03m# ignore SettingWithCopy here in case the user mutates\u001b[39;00m\n\u001b[1;32m--> 907\u001b[0m         results[i] \u001b[38;5;241m=\u001b[39m \u001b[38;5;28;43mself\u001b[39;49m\u001b[38;5;241;43m.\u001b[39;49m\u001b[43mf\u001b[49m\u001b[43m(\u001b[49m\u001b[43mv\u001b[49m\u001b[43m)\u001b[49m\n\u001b[0;32m    908\u001b[0m         \u001b[38;5;28;01mif\u001b[39;00m \u001b[38;5;28misinstance\u001b[39m(results[i], ABCSeries):\n\u001b[0;32m    909\u001b[0m             \u001b[38;5;66;03m# If we have a view on v, we need to make a copy because\u001b[39;00m\n\u001b[0;32m    910\u001b[0m             \u001b[38;5;66;03m#  series_generator will swap out the underlying data\u001b[39;00m\n\u001b[0;32m    911\u001b[0m             results[i] \u001b[38;5;241m=\u001b[39m results[i]\u001b[38;5;241m.\u001b[39mcopy(deep\u001b[38;5;241m=\u001b[39m\u001b[38;5;28;01mFalse\u001b[39;00m)\n",
      "File \u001b[1;32mc:\\Users\\justi\\anaconda3\\envs\\dev\\lib\\site-packages\\pandas\\core\\frame.py:9651\u001b[0m, in \u001b[0;36mDataFrame.applymap.<locals>.infer\u001b[1;34m(x)\u001b[0m\n\u001b[0;32m   9649\u001b[0m \u001b[38;5;28;01mif\u001b[39;00m x\u001b[38;5;241m.\u001b[39mempty:\n\u001b[0;32m   9650\u001b[0m     \u001b[38;5;28;01mreturn\u001b[39;00m lib\u001b[38;5;241m.\u001b[39mmap_infer(x, func, ignore_na\u001b[38;5;241m=\u001b[39mignore_na)\n\u001b[1;32m-> 9651\u001b[0m \u001b[38;5;28;01mreturn\u001b[39;00m \u001b[43mlib\u001b[49m\u001b[38;5;241;43m.\u001b[39;49m\u001b[43mmap_infer\u001b[49m\u001b[43m(\u001b[49m\u001b[43mx\u001b[49m\u001b[38;5;241;43m.\u001b[39;49m\u001b[43mastype\u001b[49m\u001b[43m(\u001b[49m\u001b[38;5;28;43mobject\u001b[39;49m\u001b[43m)\u001b[49m\u001b[38;5;241;43m.\u001b[39;49m\u001b[43m_values\u001b[49m\u001b[43m,\u001b[49m\u001b[43m \u001b[49m\u001b[43mfunc\u001b[49m\u001b[43m,\u001b[49m\u001b[43m \u001b[49m\u001b[43mignore_na\u001b[49m\u001b[38;5;241;43m=\u001b[39;49m\u001b[43mignore_na\u001b[49m\u001b[43m)\u001b[49m\n",
      "File \u001b[1;32mc:\\Users\\justi\\anaconda3\\envs\\dev\\lib\\site-packages\\pandas\\_libs\\lib.pyx:2924\u001b[0m, in \u001b[0;36mpandas._libs.lib.map_infer\u001b[1;34m()\u001b[0m\n",
      "Cell \u001b[1;32mIn[21], line 2\u001b[0m, in \u001b[0;36m<lambda>\u001b[1;34m(x)\u001b[0m\n\u001b[0;32m      1\u001b[0m \u001b[38;5;66;03m# Check if any values have decimal parts\u001b[39;00m\n\u001b[1;32m----> 2\u001b[0m has_decimal_values \u001b[38;5;241m=\u001b[39m (nba_df\u001b[38;5;241m.\u001b[39mapplymap(\u001b[38;5;28;01mlambda\u001b[39;00m x: \u001b[43mnp\u001b[49m\u001b[38;5;241;43m.\u001b[39;49m\u001b[43mmodf\u001b[49m\u001b[43m(\u001b[49m\u001b[43mx\u001b[49m\u001b[43m)\u001b[49m[\u001b[38;5;241m0\u001b[39m] \u001b[38;5;241m!=\u001b[39m \u001b[38;5;241m0\u001b[39m))\u001b[38;5;241m.\u001b[39many()\u001b[38;5;241m.\u001b[39many()\n\u001b[0;32m      4\u001b[0m \u001b[38;5;28;01mif\u001b[39;00m has_decimal_values:\n\u001b[0;32m      5\u001b[0m     \u001b[38;5;28mprint\u001b[39m(\u001b[38;5;124m\"\u001b[39m\u001b[38;5;124mDataFrame has values with decimal parts.\u001b[39m\u001b[38;5;124m\"\u001b[39m)\n",
      "\u001b[1;31mTypeError\u001b[0m: ufunc 'modf' not supported for the input types, and the inputs could not be safely coerced to any supported types according to the casting rule ''safe''"
     ]
    }
   ],
   "source": [
    "# Check if any values have decimal parts\n",
    "#  Goal is to reformat all salary values into whole numbers with comma seperators for 1000's. Eg: 1,500,000 for 1.5M\n",
    "has_decimal_values = (nba_df.applymap(lambda x: np.modf(x)[0] != 0)).any().any()\n",
    "\n",
    "if has_decimal_values:\n",
    "    print(\"DataFrame has values with decimal parts.\")\n",
    "    \n",
    "    #nba_df.round(0, inplace=True)\n",
    "else:\n",
    "    print(\"DataFrame does not have values with decimal parts.\")\n"
   ]
  },
  {
   "cell_type": "code",
   "execution_count": null,
   "metadata": {},
   "outputs": [],
   "source": [
    "# Modifies the salary values to exclude the decimal point, aiming to make all values in all 4 leagues whole numbers for cleanliness\n"
   ]
  },
  {
   "cell_type": "code",
   "execution_count": null,
   "metadata": {},
   "outputs": [],
   "source": [
    "# Read in csv for the NHL player salary data\n",
    "# Utilize encoding='ISO-8859-1'\n",
    "nhl_csv = '../data/raw/NHL_PlayerByYear.csv'\n",
    "nhl_data = pd.read_csv(nhl_csv, sep=';', encoding='ISO-8859-1')\n",
    "\n",
    "# Create DataFrame\n",
    "nhl_df = pd.DataFrame(nhl_data)\n",
    "nhl_df.head()"
   ]
  },
  {
   "cell_type": "code",
   "execution_count": null,
   "metadata": {},
   "outputs": [],
   "source": [
    "# Read in csv for NFL player salary data\n",
    "# Utilize ISO-8859-1 encoding \n",
    "nfl_csv = '../data/raw/NFL_PlayerByYear.csv'\n",
    "nfl_data = pd.read_csv(nfl_csv, sep=';', encoding='ISO-8859-1')\n",
    "\n",
    "# Create DataFrame \n",
    "nfl_df = pd.DataFrame(nfl_data)\n",
    "nfl_df.head()"
   ]
  },
  {
   "cell_type": "code",
   "execution_count": null,
   "metadata": {},
   "outputs": [],
   "source": [
    "# Read in csv for the MLB player salary data\n",
    "# UTF-8 default encoding was not reading, encoding='ISO-8859-1' likely needed for all csv's from the data source\n",
    "mlb_csv = '../data/raw/MLB_PlayerByYear.csv'\n",
    "mlb_data = pd.read_csv(mlb_csv, sep=';', encoding='ISO-8859-1')\n",
    "\n",
    "# Create DataFrame\n",
    "mlb_df = pd.DataFrame(mlb_data)\n",
    "mlb_df.head()"
   ]
  },
  {
   "cell_type": "code",
   "execution_count": null,
   "metadata": {},
   "outputs": [],
   "source": []
  },
  {
   "cell_type": "code",
   "execution_count": null,
   "metadata": {},
   "outputs": [],
   "source": []
  },
  {
   "cell_type": "code",
   "execution_count": null,
   "metadata": {},
   "outputs": [],
   "source": []
  },
  {
   "cell_type": "code",
   "execution_count": null,
   "metadata": {},
   "outputs": [],
   "source": []
  },
  {
   "cell_type": "code",
   "execution_count": null,
   "metadata": {},
   "outputs": [],
   "source": []
  },
  {
   "cell_type": "code",
   "execution_count": null,
   "metadata": {},
   "outputs": [],
   "source": []
  },
  {
   "cell_type": "code",
   "execution_count": null,
   "metadata": {},
   "outputs": [],
   "source": []
  }
 ],
 "metadata": {
  "kernelspec": {
   "display_name": "dev",
   "language": "python",
   "name": "python3"
  },
  "language_info": {
   "codemirror_mode": {
    "name": "ipython",
    "version": 3
   },
   "file_extension": ".py",
   "mimetype": "text/x-python",
   "name": "python",
   "nbconvert_exporter": "python",
   "pygments_lexer": "ipython3",
   "version": "3.10.11"
  }
 },
 "nbformat": 4,
 "nbformat_minor": 2
}
